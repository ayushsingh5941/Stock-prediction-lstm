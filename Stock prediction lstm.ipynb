{
 "cells": [
  {
   "cell_type": "code",
   "execution_count": 189,
   "metadata": {},
   "outputs": [],
   "source": [
    "import pandas as pd\n",
    "import matplotlib.pyplot as plt\n",
    "from sklearn.preprocessing import MinMaxScaler\n",
    "import numpy as np\n",
    "from pandas.plotting import autocorrelation_plot\n",
    "from tensorflow.keras.models import Sequential\n",
    "from tensorflow.keras.layers import Dense, LSTM\n",
    "import math\n",
    "from sklearn.metrics import mean_squared_error"
   ]
  },
  {
   "cell_type": "code",
   "execution_count": 190,
   "metadata": {},
   "outputs": [],
   "source": [
    "%matplotlib inline"
   ]
  },
  {
   "cell_type": "markdown",
   "metadata": {},
   "source": [
    "# Importing Files"
   ]
  },
  {
   "cell_type": "code",
   "execution_count": 191,
   "metadata": {},
   "outputs": [],
   "source": [
    "df = pd.read_csv('AAPL.csv', index_col='date')"
   ]
  },
  {
   "cell_type": "code",
   "execution_count": 192,
   "metadata": {},
   "outputs": [
    {
     "data": {
      "text/html": [
       "<div>\n",
       "<style scoped>\n",
       "    .dataframe tbody tr th:only-of-type {\n",
       "        vertical-align: middle;\n",
       "    }\n",
       "\n",
       "    .dataframe tbody tr th {\n",
       "        vertical-align: top;\n",
       "    }\n",
       "\n",
       "    .dataframe thead th {\n",
       "        text-align: right;\n",
       "    }\n",
       "</style>\n",
       "<table border=\"1\" class=\"dataframe\">\n",
       "  <thead>\n",
       "    <tr style=\"text-align: right;\">\n",
       "      <th></th>\n",
       "      <th>Unnamed: 0</th>\n",
       "      <th>symbol</th>\n",
       "      <th>close</th>\n",
       "      <th>high</th>\n",
       "      <th>low</th>\n",
       "      <th>open</th>\n",
       "      <th>volume</th>\n",
       "      <th>adjClose</th>\n",
       "      <th>adjHigh</th>\n",
       "      <th>adjLow</th>\n",
       "      <th>adjOpen</th>\n",
       "      <th>adjVolume</th>\n",
       "      <th>divCash</th>\n",
       "      <th>splitFactor</th>\n",
       "    </tr>\n",
       "    <tr>\n",
       "      <th>date</th>\n",
       "      <th></th>\n",
       "      <th></th>\n",
       "      <th></th>\n",
       "      <th></th>\n",
       "      <th></th>\n",
       "      <th></th>\n",
       "      <th></th>\n",
       "      <th></th>\n",
       "      <th></th>\n",
       "      <th></th>\n",
       "      <th></th>\n",
       "      <th></th>\n",
       "      <th></th>\n",
       "      <th></th>\n",
       "    </tr>\n",
       "  </thead>\n",
       "  <tbody>\n",
       "    <tr>\n",
       "      <th>2015-05-27 00:00:00+00:00</th>\n",
       "      <td>0</td>\n",
       "      <td>AAPL</td>\n",
       "      <td>132.045</td>\n",
       "      <td>132.260</td>\n",
       "      <td>130.05</td>\n",
       "      <td>130.34</td>\n",
       "      <td>45833246</td>\n",
       "      <td>121.682558</td>\n",
       "      <td>121.880685</td>\n",
       "      <td>119.844118</td>\n",
       "      <td>120.111360</td>\n",
       "      <td>45833246</td>\n",
       "      <td>0.0</td>\n",
       "      <td>1.0</td>\n",
       "    </tr>\n",
       "    <tr>\n",
       "      <th>2015-05-28 00:00:00+00:00</th>\n",
       "      <td>1</td>\n",
       "      <td>AAPL</td>\n",
       "      <td>131.780</td>\n",
       "      <td>131.950</td>\n",
       "      <td>131.10</td>\n",
       "      <td>131.86</td>\n",
       "      <td>30733309</td>\n",
       "      <td>121.438354</td>\n",
       "      <td>121.595013</td>\n",
       "      <td>120.811718</td>\n",
       "      <td>121.512076</td>\n",
       "      <td>30733309</td>\n",
       "      <td>0.0</td>\n",
       "      <td>1.0</td>\n",
       "    </tr>\n",
       "    <tr>\n",
       "      <th>2015-05-29 00:00:00+00:00</th>\n",
       "      <td>2</td>\n",
       "      <td>AAPL</td>\n",
       "      <td>130.280</td>\n",
       "      <td>131.450</td>\n",
       "      <td>129.90</td>\n",
       "      <td>131.23</td>\n",
       "      <td>50884452</td>\n",
       "      <td>120.056069</td>\n",
       "      <td>121.134251</td>\n",
       "      <td>119.705890</td>\n",
       "      <td>120.931516</td>\n",
       "      <td>50884452</td>\n",
       "      <td>0.0</td>\n",
       "      <td>1.0</td>\n",
       "    </tr>\n",
       "    <tr>\n",
       "      <th>2015-06-01 00:00:00+00:00</th>\n",
       "      <td>3</td>\n",
       "      <td>AAPL</td>\n",
       "      <td>130.535</td>\n",
       "      <td>131.390</td>\n",
       "      <td>130.05</td>\n",
       "      <td>131.20</td>\n",
       "      <td>32112797</td>\n",
       "      <td>120.291057</td>\n",
       "      <td>121.078960</td>\n",
       "      <td>119.844118</td>\n",
       "      <td>120.903870</td>\n",
       "      <td>32112797</td>\n",
       "      <td>0.0</td>\n",
       "      <td>1.0</td>\n",
       "    </tr>\n",
       "    <tr>\n",
       "      <th>2015-06-02 00:00:00+00:00</th>\n",
       "      <td>4</td>\n",
       "      <td>AAPL</td>\n",
       "      <td>129.960</td>\n",
       "      <td>130.655</td>\n",
       "      <td>129.32</td>\n",
       "      <td>129.86</td>\n",
       "      <td>33667627</td>\n",
       "      <td>119.761181</td>\n",
       "      <td>120.401640</td>\n",
       "      <td>119.171406</td>\n",
       "      <td>119.669029</td>\n",
       "      <td>33667627</td>\n",
       "      <td>0.0</td>\n",
       "      <td>1.0</td>\n",
       "    </tr>\n",
       "  </tbody>\n",
       "</table>\n",
       "</div>"
      ],
      "text/plain": [
       "                           Unnamed: 0 symbol    close     high     low  \\\n",
       "date                                                                     \n",
       "2015-05-27 00:00:00+00:00           0   AAPL  132.045  132.260  130.05   \n",
       "2015-05-28 00:00:00+00:00           1   AAPL  131.780  131.950  131.10   \n",
       "2015-05-29 00:00:00+00:00           2   AAPL  130.280  131.450  129.90   \n",
       "2015-06-01 00:00:00+00:00           3   AAPL  130.535  131.390  130.05   \n",
       "2015-06-02 00:00:00+00:00           4   AAPL  129.960  130.655  129.32   \n",
       "\n",
       "                             open    volume    adjClose     adjHigh  \\\n",
       "date                                                                  \n",
       "2015-05-27 00:00:00+00:00  130.34  45833246  121.682558  121.880685   \n",
       "2015-05-28 00:00:00+00:00  131.86  30733309  121.438354  121.595013   \n",
       "2015-05-29 00:00:00+00:00  131.23  50884452  120.056069  121.134251   \n",
       "2015-06-01 00:00:00+00:00  131.20  32112797  120.291057  121.078960   \n",
       "2015-06-02 00:00:00+00:00  129.86  33667627  119.761181  120.401640   \n",
       "\n",
       "                               adjLow     adjOpen  adjVolume  divCash  \\\n",
       "date                                                                    \n",
       "2015-05-27 00:00:00+00:00  119.844118  120.111360   45833246      0.0   \n",
       "2015-05-28 00:00:00+00:00  120.811718  121.512076   30733309      0.0   \n",
       "2015-05-29 00:00:00+00:00  119.705890  120.931516   50884452      0.0   \n",
       "2015-06-01 00:00:00+00:00  119.844118  120.903870   32112797      0.0   \n",
       "2015-06-02 00:00:00+00:00  119.171406  119.669029   33667627      0.0   \n",
       "\n",
       "                           splitFactor  \n",
       "date                                    \n",
       "2015-05-27 00:00:00+00:00          1.0  \n",
       "2015-05-28 00:00:00+00:00          1.0  \n",
       "2015-05-29 00:00:00+00:00          1.0  \n",
       "2015-06-01 00:00:00+00:00          1.0  \n",
       "2015-06-02 00:00:00+00:00          1.0  "
      ]
     },
     "execution_count": 192,
     "metadata": {},
     "output_type": "execute_result"
    }
   ],
   "source": [
    "df.head()"
   ]
  },
  {
   "cell_type": "code",
   "execution_count": 193,
   "metadata": {},
   "outputs": [
    {
     "data": {
      "text/html": [
       "<div>\n",
       "<style scoped>\n",
       "    .dataframe tbody tr th:only-of-type {\n",
       "        vertical-align: middle;\n",
       "    }\n",
       "\n",
       "    .dataframe tbody tr th {\n",
       "        vertical-align: top;\n",
       "    }\n",
       "\n",
       "    .dataframe thead th {\n",
       "        text-align: right;\n",
       "    }\n",
       "</style>\n",
       "<table border=\"1\" class=\"dataframe\">\n",
       "  <thead>\n",
       "    <tr style=\"text-align: right;\">\n",
       "      <th></th>\n",
       "      <th>Unnamed: 0</th>\n",
       "      <th>close</th>\n",
       "      <th>high</th>\n",
       "      <th>low</th>\n",
       "      <th>open</th>\n",
       "      <th>volume</th>\n",
       "      <th>adjClose</th>\n",
       "      <th>adjHigh</th>\n",
       "      <th>adjLow</th>\n",
       "      <th>adjOpen</th>\n",
       "      <th>adjVolume</th>\n",
       "      <th>divCash</th>\n",
       "      <th>splitFactor</th>\n",
       "    </tr>\n",
       "  </thead>\n",
       "  <tbody>\n",
       "    <tr>\n",
       "      <th>count</th>\n",
       "      <td>1258.000000</td>\n",
       "      <td>1258.000000</td>\n",
       "      <td>1258.000000</td>\n",
       "      <td>1258.000000</td>\n",
       "      <td>1258.000000</td>\n",
       "      <td>1.258000e+03</td>\n",
       "      <td>1258.000000</td>\n",
       "      <td>1258.000000</td>\n",
       "      <td>1258.000000</td>\n",
       "      <td>1258.000000</td>\n",
       "      <td>1.258000e+03</td>\n",
       "      <td>1258.000000</td>\n",
       "      <td>1258.0</td>\n",
       "    </tr>\n",
       "    <tr>\n",
       "      <th>mean</th>\n",
       "      <td>628.500000</td>\n",
       "      <td>167.723998</td>\n",
       "      <td>169.230475</td>\n",
       "      <td>166.039780</td>\n",
       "      <td>167.548266</td>\n",
       "      <td>3.500397e+07</td>\n",
       "      <td>162.666715</td>\n",
       "      <td>164.131054</td>\n",
       "      <td>161.028013</td>\n",
       "      <td>162.493082</td>\n",
       "      <td>3.500397e+07</td>\n",
       "      <td>0.010477</td>\n",
       "      <td>1.0</td>\n",
       "    </tr>\n",
       "    <tr>\n",
       "      <th>std</th>\n",
       "      <td>363.297628</td>\n",
       "      <td>56.850796</td>\n",
       "      <td>57.500128</td>\n",
       "      <td>56.006773</td>\n",
       "      <td>56.612707</td>\n",
       "      <td>1.729100e+07</td>\n",
       "      <td>58.733820</td>\n",
       "      <td>59.402842</td>\n",
       "      <td>57.869246</td>\n",
       "      <td>58.494560</td>\n",
       "      <td>1.729100e+07</td>\n",
       "      <td>0.083366</td>\n",
       "      <td>0.0</td>\n",
       "    </tr>\n",
       "    <tr>\n",
       "      <th>min</th>\n",
       "      <td>0.000000</td>\n",
       "      <td>90.340000</td>\n",
       "      <td>91.670000</td>\n",
       "      <td>89.470000</td>\n",
       "      <td>90.000000</td>\n",
       "      <td>1.136204e+07</td>\n",
       "      <td>84.954351</td>\n",
       "      <td>86.205062</td>\n",
       "      <td>84.136216</td>\n",
       "      <td>84.634620</td>\n",
       "      <td>1.136204e+07</td>\n",
       "      <td>0.000000</td>\n",
       "      <td>1.0</td>\n",
       "    </tr>\n",
       "    <tr>\n",
       "      <th>25%</th>\n",
       "      <td>314.250000</td>\n",
       "      <td>116.327500</td>\n",
       "      <td>117.405000</td>\n",
       "      <td>115.602500</td>\n",
       "      <td>116.482500</td>\n",
       "      <td>2.359205e+07</td>\n",
       "      <td>109.484490</td>\n",
       "      <td>110.393556</td>\n",
       "      <td>107.962457</td>\n",
       "      <td>109.135002</td>\n",
       "      <td>2.359205e+07</td>\n",
       "      <td>0.000000</td>\n",
       "      <td>1.0</td>\n",
       "    </tr>\n",
       "    <tr>\n",
       "      <th>50%</th>\n",
       "      <td>628.500000</td>\n",
       "      <td>160.485000</td>\n",
       "      <td>162.080000</td>\n",
       "      <td>158.974250</td>\n",
       "      <td>160.345000</td>\n",
       "      <td>3.064771e+07</td>\n",
       "      <td>154.710645</td>\n",
       "      <td>156.091874</td>\n",
       "      <td>153.054341</td>\n",
       "      <td>154.410017</td>\n",
       "      <td>3.064771e+07</td>\n",
       "      <td>0.000000</td>\n",
       "      <td>1.0</td>\n",
       "    </tr>\n",
       "    <tr>\n",
       "      <th>75%</th>\n",
       "      <td>942.750000</td>\n",
       "      <td>199.785000</td>\n",
       "      <td>201.277500</td>\n",
       "      <td>198.170000</td>\n",
       "      <td>199.520000</td>\n",
       "      <td>4.100487e+07</td>\n",
       "      <td>196.960053</td>\n",
       "      <td>198.428438</td>\n",
       "      <td>195.281553</td>\n",
       "      <td>196.452903</td>\n",
       "      <td>4.100487e+07</td>\n",
       "      <td>0.000000</td>\n",
       "      <td>1.0</td>\n",
       "    </tr>\n",
       "    <tr>\n",
       "      <th>max</th>\n",
       "      <td>1257.000000</td>\n",
       "      <td>327.200000</td>\n",
       "      <td>327.850000</td>\n",
       "      <td>323.350000</td>\n",
       "      <td>324.730000</td>\n",
       "      <td>1.622063e+08</td>\n",
       "      <td>326.337147</td>\n",
       "      <td>326.357095</td>\n",
       "      <td>322.497300</td>\n",
       "      <td>323.873661</td>\n",
       "      <td>1.622063e+08</td>\n",
       "      <td>0.820000</td>\n",
       "      <td>1.0</td>\n",
       "    </tr>\n",
       "  </tbody>\n",
       "</table>\n",
       "</div>"
      ],
      "text/plain": [
       "        Unnamed: 0        close         high          low         open  \\\n",
       "count  1258.000000  1258.000000  1258.000000  1258.000000  1258.000000   \n",
       "mean    628.500000   167.723998   169.230475   166.039780   167.548266   \n",
       "std     363.297628    56.850796    57.500128    56.006773    56.612707   \n",
       "min       0.000000    90.340000    91.670000    89.470000    90.000000   \n",
       "25%     314.250000   116.327500   117.405000   115.602500   116.482500   \n",
       "50%     628.500000   160.485000   162.080000   158.974250   160.345000   \n",
       "75%     942.750000   199.785000   201.277500   198.170000   199.520000   \n",
       "max    1257.000000   327.200000   327.850000   323.350000   324.730000   \n",
       "\n",
       "             volume     adjClose      adjHigh       adjLow      adjOpen  \\\n",
       "count  1.258000e+03  1258.000000  1258.000000  1258.000000  1258.000000   \n",
       "mean   3.500397e+07   162.666715   164.131054   161.028013   162.493082   \n",
       "std    1.729100e+07    58.733820    59.402842    57.869246    58.494560   \n",
       "min    1.136204e+07    84.954351    86.205062    84.136216    84.634620   \n",
       "25%    2.359205e+07   109.484490   110.393556   107.962457   109.135002   \n",
       "50%    3.064771e+07   154.710645   156.091874   153.054341   154.410017   \n",
       "75%    4.100487e+07   196.960053   198.428438   195.281553   196.452903   \n",
       "max    1.622063e+08   326.337147   326.357095   322.497300   323.873661   \n",
       "\n",
       "          adjVolume      divCash  splitFactor  \n",
       "count  1.258000e+03  1258.000000       1258.0  \n",
       "mean   3.500397e+07     0.010477          1.0  \n",
       "std    1.729100e+07     0.083366          0.0  \n",
       "min    1.136204e+07     0.000000          1.0  \n",
       "25%    2.359205e+07     0.000000          1.0  \n",
       "50%    3.064771e+07     0.000000          1.0  \n",
       "75%    4.100487e+07     0.000000          1.0  \n",
       "max    1.622063e+08     0.820000          1.0  "
      ]
     },
     "execution_count": 193,
     "metadata": {},
     "output_type": "execute_result"
    }
   ],
   "source": [
    "df.describe()"
   ]
  },
  {
   "cell_type": "code",
   "execution_count": 194,
   "metadata": {},
   "outputs": [
    {
     "name": "stdout",
     "output_type": "stream",
     "text": [
      "<class 'pandas.core.frame.DataFrame'>\n",
      "Index: 1258 entries, 2015-05-27 00:00:00+00:00 to 2020-05-22 00:00:00+00:00\n",
      "Data columns (total 14 columns):\n",
      " #   Column       Non-Null Count  Dtype  \n",
      "---  ------       --------------  -----  \n",
      " 0   Unnamed: 0   1258 non-null   int64  \n",
      " 1   symbol       1258 non-null   object \n",
      " 2   close        1258 non-null   float64\n",
      " 3   high         1258 non-null   float64\n",
      " 4   low          1258 non-null   float64\n",
      " 5   open         1258 non-null   float64\n",
      " 6   volume       1258 non-null   int64  \n",
      " 7   adjClose     1258 non-null   float64\n",
      " 8   adjHigh      1258 non-null   float64\n",
      " 9   adjLow       1258 non-null   float64\n",
      " 10  adjOpen      1258 non-null   float64\n",
      " 11  adjVolume    1258 non-null   int64  \n",
      " 12  divCash      1258 non-null   float64\n",
      " 13  splitFactor  1258 non-null   float64\n",
      "dtypes: float64(10), int64(3), object(1)\n",
      "memory usage: 147.4+ KB\n"
     ]
    }
   ],
   "source": [
    "df.info()"
   ]
  },
  {
   "cell_type": "code",
   "execution_count": 195,
   "metadata": {},
   "outputs": [],
   "source": [
    "df_close = df.reset_index()['close']"
   ]
  },
  {
   "cell_type": "code",
   "execution_count": 196,
   "metadata": {},
   "outputs": [
    {
     "data": {
      "text/plain": [
       "1258"
      ]
     },
     "execution_count": 196,
     "metadata": {},
     "output_type": "execute_result"
    }
   ],
   "source": [
    "len(df_close)"
   ]
  },
  {
   "cell_type": "code",
   "execution_count": 197,
   "metadata": {},
   "outputs": [
    {
     "data": {
      "text/plain": [
       "0    132.045\n",
       "1    131.780\n",
       "2    130.280\n",
       "3    130.535\n",
       "4    129.960\n",
       "Name: close, dtype: float64"
      ]
     },
     "execution_count": 197,
     "metadata": {},
     "output_type": "execute_result"
    }
   ],
   "source": [
    "df_close.head()"
   ]
  },
  {
   "cell_type": "code",
   "execution_count": 198,
   "metadata": {},
   "outputs": [
    {
     "data": {
      "text/plain": [
       "[<matplotlib.lines.Line2D at 0x1e2674dda48>]"
      ]
     },
     "execution_count": 198,
     "metadata": {},
     "output_type": "execute_result"
    },
    {
     "data": {
      "image/png": "[encoded data removed]",
      "text/plain": [
       "<Figure size 1080x360 with 1 Axes>"
      ]
     },
     "metadata": {
      "needs_background": "light"
     },
     "output_type": "display_data"
    }
   ],
   "source": [
    "plt.figure(figsize=(15, 5))\n",
    "plt.plot(df_close)"
   ]
  },
  {
   "cell_type": "markdown",
   "metadata": {},
   "source": [
    "# Scaling data for lstm"
   ]
  },
  {
   "cell_type": "code",
   "execution_count": 199,
   "metadata": {},
   "outputs": [],
   "source": [
    "scaler = MinMaxScaler(feature_range=(0, 1))\n",
    "df_close1 = scaler.fit_transform(np.array(df_close).reshape(-1, 1))"
   ]
  },
  {
   "cell_type": "code",
   "execution_count": 200,
   "metadata": {},
   "outputs": [
    {
     "data": {
      "text/plain": [
       "(1258, 1)"
      ]
     },
     "execution_count": 200,
     "metadata": {},
     "output_type": "execute_result"
    }
   ],
   "source": [
    "df_close1.shape"
   ]
  },
  {
   "cell_type": "code",
   "execution_count": 201,
   "metadata": {},
   "outputs": [
    {
     "data": {
      "text/plain": [
       "array([[0.17607447],\n",
       "       [0.17495567],\n",
       "       [0.16862282],\n",
       "       ...,\n",
       "       [0.96635143],\n",
       "       [0.9563033 ],\n",
       "       [0.96491598]])"
      ]
     },
     "execution_count": 201,
     "metadata": {},
     "output_type": "execute_result"
    }
   ],
   "source": [
    "df_close1"
   ]
  },
  {
   "cell_type": "markdown",
   "metadata": {},
   "source": [
    "# Train test split"
   ]
  },
  {
   "cell_type": "code",
   "execution_count": 202,
   "metadata": {},
   "outputs": [],
   "source": [
    "training_size = int(len(df_close1) * 0.65)\n",
    "test_size = len(df_close1) - training_size\n",
    "training_data, test_data = df_close1[0: training_size, :], df_close1[training_size:len(df_close1), :1]"
   ]
  },
  {
   "cell_type": "code",
   "execution_count": 203,
   "metadata": {},
   "outputs": [
    {
     "data": {
      "text/plain": [
       "(817, 441)"
      ]
     },
     "execution_count": 203,
     "metadata": {},
     "output_type": "execute_result"
    }
   ],
   "source": [
    "training_size, test_size"
   ]
  },
  {
   "cell_type": "markdown",
   "metadata": {},
   "source": [
    "# Checking auto correlation between data"
   ]
  },
  {
   "cell_type": "code",
   "execution_count": 204,
   "metadata": {},
   "outputs": [
    {
     "data": {
      "text/plain": [
       "<matplotlib.axes._subplots.AxesSubplot at 0x1e266f19a88>"
      ]
     },
     "execution_count": 204,
     "metadata": {},
     "output_type": "execute_result"
    },
    {
     "data": {
      "image/png": "[encoded data removed]",
      "text/plain": [
       "<Figure size 432x288 with 1 Axes>"
      ]
     },
     "metadata": {
      "needs_background": "light"
     },
     "output_type": "display_data"
    }
   ],
   "source": [
    "autocorrelation_plot(training_data)"
   ]
  },
  {
   "cell_type": "markdown",
   "metadata": {},
   "source": [
    "# Sequencing the data\n",
    "Dividing data on the basis of time steps"
   ]
  },
  {
   "cell_type": "code",
   "execution_count": 205,
   "metadata": {},
   "outputs": [],
   "source": [
    "# Convert an array to dataset matrix\n",
    "def create_dataset(dataset, time_step = 1):\n",
    "    dataX, dataY = [], []\n",
    "    for i in range(len(dataset) - time_step-1):\n",
    "        a = dataset[i: (i+time_step), 0] ### i =0,1,2\n",
    "        dataX.append(a)\n",
    "        dataY.append(dataset[i+time_step, 0])\n",
    "    return np.array(dataX), np.array(dataY)"
   ]
  },
  {
   "cell_type": "code",
   "execution_count": 206,
   "metadata": {},
   "outputs": [],
   "source": [
    "# reshape X = t, t+1, t+2, t+3 and y= t+4 \n",
    "time_step = 100\n",
    "X_train, Y_train = create_dataset(training_data, time_step)\n",
    "X_test, y_test = create_dataset(test_data, time_step)"
   ]
  },
  {
   "cell_type": "code",
   "execution_count": 207,
   "metadata": {},
   "outputs": [
    {
     "name": "stdout",
     "output_type": "stream",
     "text": [
      "[[0.17607447 0.17495567 0.16862282 ... 0.09055982 0.08388922 0.09085536]\n",
      " [0.17495567 0.16862282 0.1696994  ... 0.08388922 0.09085536 0.0873934 ]\n",
      " [0.16862282 0.1696994  0.16727181 ... 0.09085536 0.0873934  0.09030651]\n",
      " ...\n",
      " [0.34801148 0.32930845 0.32145571 ... 0.50042219 0.50413747 0.5062062 ]\n",
      " [0.32930845 0.32145571 0.32694419 ... 0.50413747 0.5062062  0.51920966]\n",
      " [0.32145571 0.32694419 0.32230009 ... 0.5062062  0.51920966 0.53719497]]\n"
     ]
    }
   ],
   "source": [
    "print(X_train)"
   ]
  },
  {
   "cell_type": "code",
   "execution_count": 208,
   "metadata": {},
   "outputs": [
    {
     "name": "stdout",
     "output_type": "stream",
     "text": [
      "(340, 100) (340,)\n"
     ]
    }
   ],
   "source": [
    "print(X_test.shape, y_test.shape)"
   ]
  },
  {
   "cell_type": "markdown",
   "metadata": {},
   "source": [
    "# Reshape data for LSTM\n",
    "In batch, row and column. Adding batch at end for keras\n"
   ]
  },
  {
   "cell_type": "code",
   "execution_count": 209,
   "metadata": {},
   "outputs": [],
   "source": [
    "X_train = X_train.reshape(X_train.shape[0], X_train.shape[1], 1)\n",
    "X_test = X_test.reshape(X_test.shape[0], X_test.shape[1], 1)"
   ]
  },
  {
   "cell_type": "markdown",
   "metadata": {},
   "source": [
    "# Creating Model"
   ]
  },
  {
   "cell_type": "code",
   "execution_count": 210,
   "metadata": {},
   "outputs": [],
   "source": [
    "model = Sequential()\n",
    "model.add(LSTM(50, return_sequences=True, input_shape=(time_step, 1)))\n",
    "model.add(LSTM(50, return_sequences=True))\n",
    "model.add(LSTM(50))\n",
    "model.add(Dense(1))\n",
    "model.compile(loss='mean_squared_error', optimizer='adam')      \n"
   ]
  },
  {
   "cell_type": "code",
   "execution_count": 211,
   "metadata": {},
   "outputs": [
    {
     "name": "stdout",
     "output_type": "stream",
     "text": [
      "Model: \"sequential_4\"\n",
      "_________________________________________________________________\n",
      "Layer (type)                 Output Shape              Param #   \n",
      "=================================================================\n",
      "lstm_9 (LSTM)                (None, 100, 50)           10400     \n",
      "_________________________________________________________________\n",
      "lstm_10 (LSTM)               (None, 100, 50)           20200     \n",
      "_________________________________________________________________\n",
      "lstm_11 (LSTM)               (None, 50)                20200     \n",
      "_________________________________________________________________\n",
      "dense_3 (Dense)              (None, 1)                 51        \n",
      "=================================================================\n",
      "Total params: 50,851\n",
      "Trainable params: 50,851\n",
      "Non-trainable params: 0\n",
      "_________________________________________________________________\n"
     ]
    }
   ],
   "source": [
    "model.summary()"
   ]
  },
  {
   "cell_type": "code",
   "execution_count": 212,
   "metadata": {},
   "outputs": [],
   "source": [
    "from tensorflow.keras.callbacks import EarlyStopping\n",
    "early_stop = EarlyStopping(patience=5)"
   ]
  },
  {
   "cell_type": "code",
   "execution_count": 215,
   "metadata": {},
   "outputs": [
    {
     "name": "stdout",
     "output_type": "stream",
     "text": [
      "Epoch 1/100\n",
      "23/23 [==============================] - 4s 171ms/step - loss: 3.1778e-04 - val_loss: 0.0014\n",
      "Epoch 2/100\n",
      "23/23 [==============================] - 4s 157ms/step - loss: 3.0943e-04 - val_loss: 0.0016\n",
      "Epoch 3/100\n",
      "23/23 [==============================] - 4s 154ms/step - loss: 3.5170e-04 - val_loss: 0.0017\n",
      "Epoch 4/100\n",
      "23/23 [==============================] - 4s 156ms/step - loss: 3.1499e-04 - val_loss: 0.0016\n",
      "Epoch 5/100\n",
      "23/23 [==============================] - 3s 152ms/step - loss: 3.1887e-04 - val_loss: 0.0015\n",
      "Epoch 6/100\n",
      "23/23 [==============================] - 4s 154ms/step - loss: 3.0180e-04 - val_loss: 0.0016\n",
      "Epoch 7/100\n",
      "23/23 [==============================] - 4s 153ms/step - loss: 2.9135e-04 - val_loss: 0.0012\n",
      "Epoch 8/100\n",
      "23/23 [==============================] - 4s 153ms/step - loss: 2.9328e-04 - val_loss: 0.0014\n",
      "Epoch 9/100\n",
      "23/23 [==============================] - 4s 154ms/step - loss: 2.7355e-04 - val_loss: 0.0012\n",
      "Epoch 10/100\n",
      "23/23 [==============================] - 4s 154ms/step - loss: 2.4984e-04 - val_loss: 0.0019\n",
      "Epoch 11/100\n",
      "23/23 [==============================] - 4s 164ms/step - loss: 2.5209e-04 - val_loss: 0.0013\n",
      "Epoch 12/100\n",
      "23/23 [==============================] - 3s 152ms/step - loss: 2.2239e-04 - val_loss: 0.0011\n",
      "Epoch 13/100\n",
      "23/23 [==============================] - 4s 154ms/step - loss: 2.2626e-04 - val_loss: 0.0012\n",
      "Epoch 14/100\n",
      "23/23 [==============================] - 4s 154ms/step - loss: 2.5819e-04 - val_loss: 0.0021\n",
      "Epoch 15/100\n",
      "23/23 [==============================] - 4s 168ms/step - loss: 2.4200e-04 - val_loss: 0.0013\n",
      "Epoch 16/100\n",
      "23/23 [==============================] - 4s 154ms/step - loss: 2.1523e-04 - val_loss: 0.0014\n",
      "Epoch 17/100\n",
      "23/23 [==============================] - 4s 153ms/step - loss: 2.1274e-04 - val_loss: 0.0012\n",
      "Epoch 18/100\n",
      "23/23 [==============================] - 4s 154ms/step - loss: 2.1336e-04 - val_loss: 9.9418e-04\n",
      "Epoch 19/100\n",
      "23/23 [==============================] - 4s 154ms/step - loss: 2.0204e-04 - val_loss: 0.0014\n",
      "Epoch 20/100\n",
      "23/23 [==============================] - 4s 155ms/step - loss: 2.0344e-04 - val_loss: 0.0010\n",
      "Epoch 21/100\n",
      "23/23 [==============================] - 4s 163ms/step - loss: 1.8326e-04 - val_loss: 9.3338e-04\n",
      "Epoch 22/100\n",
      "23/23 [==============================] - 4s 166ms/step - loss: 1.8650e-04 - val_loss: 0.0010\n",
      "Epoch 23/100\n",
      "23/23 [==============================] - 4s 174ms/step - loss: 1.8919e-04 - val_loss: 9.5654e-04\n",
      "Epoch 24/100\n",
      "23/23 [==============================] - 4s 152ms/step - loss: 1.7134e-04 - val_loss: 8.7839e-04\n",
      "Epoch 25/100\n",
      "23/23 [==============================] - 4s 153ms/step - loss: 1.6445e-04 - val_loss: 9.0767e-04\n",
      "Epoch 26/100\n",
      "23/23 [==============================] - 4s 154ms/step - loss: 1.7290e-04 - val_loss: 8.7342e-04\n",
      "Epoch 27/100\n",
      "23/23 [==============================] - 4s 154ms/step - loss: 1.5782e-04 - val_loss: 9.0638e-04\n",
      "Epoch 28/100\n",
      "23/23 [==============================] - 4s 154ms/step - loss: 1.6639e-04 - val_loss: 8.2068e-04\n",
      "Epoch 29/100\n",
      "23/23 [==============================] - 4s 163ms/step - loss: 1.4722e-04 - val_loss: 8.8535e-04\n",
      "Epoch 30/100\n",
      "23/23 [==============================] - 4s 157ms/step - loss: 1.5925e-04 - val_loss: 8.2828e-04\n",
      "Epoch 31/100\n",
      "23/23 [==============================] - 4s 178ms/step - loss: 1.5243e-04 - val_loss: 7.9952e-04\n",
      "Epoch 32/100\n",
      "23/23 [==============================] - 4s 196ms/step - loss: 1.5445e-04 - val_loss: 0.0011\n",
      "Epoch 33/100\n",
      "23/23 [==============================] - 4s 157ms/step - loss: 1.4970e-04 - val_loss: 7.5963e-04\n",
      "Epoch 34/100\n",
      "23/23 [==============================] - 4s 165ms/step - loss: 1.6590e-04 - val_loss: 7.5932e-04\n",
      "Epoch 35/100\n",
      "23/23 [==============================] - 3s 152ms/step - loss: 1.4047e-04 - val_loss: 9.4724e-04\n",
      "Epoch 36/100\n",
      "23/23 [==============================] - 3s 151ms/step - loss: 1.4866e-04 - val_loss: 9.8075e-04\n",
      "Epoch 37/100\n",
      "23/23 [==============================] - 3s 152ms/step - loss: 1.5606e-04 - val_loss: 9.9543e-04\n",
      "Epoch 38/100\n",
      "23/23 [==============================] - 3s 151ms/step - loss: 1.4186e-04 - val_loss: 9.1304e-04\n",
      "Epoch 39/100\n",
      "23/23 [==============================] - 3s 151ms/step - loss: 1.6501e-04 - val_loss: 9.6566e-04\n",
      "Epoch 40/100\n",
      "23/23 [==============================] - 3s 151ms/step - loss: 1.3885e-04 - val_loss: 7.2117e-04\n",
      "Epoch 41/100\n",
      "23/23 [==============================] - 3s 152ms/step - loss: 1.3538e-04 - val_loss: 0.0010\n",
      "Epoch 42/100\n",
      "23/23 [==============================] - 3s 151ms/step - loss: 1.4291e-04 - val_loss: 8.8509e-04\n",
      "Epoch 43/100\n",
      "23/23 [==============================] - 3s 151ms/step - loss: 1.4731e-04 - val_loss: 7.2470e-04\n",
      "Epoch 44/100\n",
      "23/23 [==============================] - 3s 151ms/step - loss: 1.2216e-04 - val_loss: 6.8741e-04\n",
      "Epoch 45/100\n",
      "23/23 [==============================] - 3s 151ms/step - loss: 1.2167e-04 - val_loss: 7.1419e-04\n",
      "Epoch 46/100\n",
      "23/23 [==============================] - 3s 151ms/step - loss: 1.1877e-04 - val_loss: 7.0204e-04\n",
      "Epoch 47/100\n",
      "23/23 [==============================] - 3s 152ms/step - loss: 1.1512e-04 - val_loss: 8.3034e-04\n",
      "Epoch 48/100\n",
      "23/23 [==============================] - 4s 153ms/step - loss: 1.3457e-04 - val_loss: 6.9166e-04\n",
      "Epoch 49/100\n",
      "23/23 [==============================] - 4s 153ms/step - loss: 1.2486e-04 - val_loss: 7.7614e-04\n",
      "Epoch 50/100\n",
      "23/23 [==============================] - 3s 151ms/step - loss: 1.2439e-04 - val_loss: 6.9693e-04\n",
      "Epoch 51/100\n",
      "23/23 [==============================] - 3s 152ms/step - loss: 1.2004e-04 - val_loss: 8.7173e-04\n",
      "Epoch 52/100\n",
      "23/23 [==============================] - 3s 151ms/step - loss: 1.2087e-04 - val_loss: 6.7758e-04\n",
      "Epoch 53/100\n",
      "23/23 [==============================] - 4s 160ms/step - loss: 1.2877e-04 - val_loss: 6.6485e-04\n",
      "Epoch 54/100\n",
      "23/23 [==============================] - 5s 224ms/step - loss: 1.1860e-04 - val_loss: 6.7562e-04\n",
      "Epoch 55/100\n",
      "23/23 [==============================] - 4s 179ms/step - loss: 1.0712e-04 - val_loss: 6.8081e-04\n",
      "Epoch 56/100\n",
      "23/23 [==============================] - 4s 183ms/step - loss: 1.3721e-04 - val_loss: 6.9331e-04\n",
      "Epoch 57/100\n",
      "23/23 [==============================] - 4s 156ms/step - loss: 1.0878e-04 - val_loss: 6.9449e-04\n",
      "Epoch 58/100\n",
      "23/23 [==============================] - 4s 176ms/step - loss: 1.0674e-04 - val_loss: 7.1609e-04\n",
      "Epoch 59/100\n",
      "23/23 [==============================] - 4s 156ms/step - loss: 1.1560e-04 - val_loss: 6.4637e-04\n",
      "Epoch 60/100\n",
      "23/23 [==============================] - 4s 188ms/step - loss: 1.0616e-04 - val_loss: 7.4944e-04\n",
      "Epoch 61/100\n",
      "23/23 [==============================] - 4s 161ms/step - loss: 1.0013e-04 - val_loss: 7.3033e-04\n",
      "Epoch 62/100\n",
      "23/23 [==============================] - 4s 162ms/step - loss: 1.1101e-04 - val_loss: 6.7688e-04\n",
      "Epoch 63/100\n",
      "23/23 [==============================] - 4s 157ms/step - loss: 1.1169e-04 - val_loss: 6.5397e-04\n",
      "Epoch 64/100\n",
      "23/23 [==============================] - 4s 158ms/step - loss: 1.0217e-04 - val_loss: 7.1363e-04\n",
      "Epoch 65/100\n",
      "23/23 [==============================] - 4s 158ms/step - loss: 1.1578e-04 - val_loss: 9.3154e-04\n",
      "Epoch 66/100\n",
      "23/23 [==============================] - 4s 159ms/step - loss: 9.6311e-05 - val_loss: 8.1087e-04\n",
      "Epoch 67/100\n",
      "23/23 [==============================] - 4s 158ms/step - loss: 1.0636e-04 - val_loss: 7.5232e-04\n",
      "Epoch 68/100\n",
      "23/23 [==============================] - 4s 167ms/step - loss: 1.0542e-04 - val_loss: 8.9360e-04\n",
      "Epoch 69/100\n",
      "23/23 [==============================] - 4s 177ms/step - loss: 1.0472e-04 - val_loss: 6.9771e-04\n",
      "Epoch 70/100\n",
      "23/23 [==============================] - 4s 175ms/step - loss: 9.7390e-05 - val_loss: 6.4627e-04\n",
      "Epoch 71/100\n",
      "23/23 [==============================] - 4s 159ms/step - loss: 9.3443e-05 - val_loss: 0.0012\n",
      "Epoch 72/100\n",
      "23/23 [==============================] - 4s 185ms/step - loss: 1.1032e-04 - val_loss: 6.5723e-04\n",
      "Epoch 73/100\n",
      "23/23 [==============================] - 4s 153ms/step - loss: 9.3694e-05 - val_loss: 7.2856e-04\n",
      "Epoch 74/100\n",
      "23/23 [==============================] - 3s 152ms/step - loss: 1.0863e-04 - val_loss: 6.7857e-04\n",
      "Epoch 75/100\n",
      "23/23 [==============================] - 3s 152ms/step - loss: 8.8823e-05 - val_loss: 7.1951e-04\n",
      "Epoch 76/100\n"
     ]
    },
    {
     "name": "stdout",
     "output_type": "stream",
     "text": [
      "23/23 [==============================] - 3s 150ms/step - loss: 8.8065e-05 - val_loss: 6.7517e-04\n",
      "Epoch 77/100\n",
      "23/23 [==============================] - 3s 151ms/step - loss: 1.1091e-04 - val_loss: 7.5365e-04\n",
      "Epoch 78/100\n",
      "23/23 [==============================] - 3s 151ms/step - loss: 9.7308e-05 - val_loss: 0.0010\n",
      "Epoch 79/100\n",
      "23/23 [==============================] - 3s 151ms/step - loss: 9.5767e-05 - val_loss: 8.3149e-04\n",
      "Epoch 80/100\n",
      "23/23 [==============================] - 4s 164ms/step - loss: 9.6258e-05 - val_loss: 9.1980e-04\n",
      "Epoch 81/100\n",
      "23/23 [==============================] - 3s 152ms/step - loss: 9.0315e-05 - val_loss: 7.7232e-04\n",
      "Epoch 82/100\n",
      "23/23 [==============================] - 4s 154ms/step - loss: 1.0187e-04 - val_loss: 8.2173e-04\n",
      "Epoch 83/100\n",
      "23/23 [==============================] - 4s 185ms/step - loss: 8.6308e-05 - val_loss: 8.7135e-04\n",
      "Epoch 84/100\n",
      "23/23 [==============================] - 4s 195ms/step - loss: 8.6542e-05 - val_loss: 8.0457e-04\n",
      "Epoch 85/100\n",
      "23/23 [==============================] - 4s 174ms/step - loss: 9.3426e-05 - val_loss: 0.0013\n"
     ]
    },
    {
     "data": {
      "text/plain": [
       "<tensorflow.python.keras.callbacks.History at 0x1e2730c4cc8>"
      ]
     },
     "execution_count": 215,
     "metadata": {},
     "output_type": "execute_result"
    }
   ],
   "source": [
    "model.fit(X_train, Y_train, validation_data=(X_test, y_test), epochs=100, batch_size=32, verbose=1, callbacks=[early_stop])"
   ]
  },
  {
   "cell_type": "code",
   "execution_count": 216,
   "metadata": {},
   "outputs": [],
   "source": [
    "# Prediction\n",
    "train_predict = model.predict(X_train)\n",
    "test_predict = model.predict(X_test)"
   ]
  },
  {
   "cell_type": "code",
   "execution_count": 217,
   "metadata": {},
   "outputs": [],
   "source": [
    "# Transform back to original form\n",
    "train_predict = scaler.inverse_transform(train_predict)\n",
    "test_predict = scaler.inverse_transform(test_predict)"
   ]
  },
  {
   "cell_type": "code",
   "execution_count": 218,
   "metadata": {},
   "outputs": [
    {
     "data": {
      "text/plain": [
       "140.03298237360937"
      ]
     },
     "execution_count": 218,
     "metadata": {},
     "output_type": "execute_result"
    }
   ],
   "source": [
    "# Calculate train RMSE performance\n",
    "math.sqrt(mean_squared_error(Y_train, train_predict))"
   ]
  },
  {
   "cell_type": "code",
   "execution_count": 219,
   "metadata": {},
   "outputs": [
    {
     "data": {
      "text/plain": [
       "232.9083811505303"
      ]
     },
     "execution_count": 219,
     "metadata": {},
     "output_type": "execute_result"
    }
   ],
   "source": [
    "# Calculate Test Rmse performance\n",
    "math.sqrt(mean_squared_error(y_test, test_predict))"
   ]
  },
  {
   "cell_type": "code",
   "execution_count": 220,
   "metadata": {},
   "outputs": [
    {
     "data": {
      "image/png": "[encoded data removed]",
      "text/plain": [
       "<Figure size 432x288 with 1 Axes>"
      ]
     },
     "metadata": {
      "needs_background": "light"
     },
     "output_type": "display_data"
    }
   ],
   "source": [
    "### Plotting \n",
    "# shift train predictions for plotting\n",
    "look_back=time_step\n",
    "trainPredictPlot = np.empty_like(df_close1)\n",
    "trainPredictPlot[:, :] = np.nan\n",
    "trainPredictPlot[look_back:len(train_predict)+look_back, :] = train_predict\n",
    "# shift test predictions for plotting\n",
    "testPredictPlot = np.empty_like(df_close1)\n",
    "testPredictPlot[:, :] = np.nan\n",
    "testPredictPlot[len(train_predict)+(look_back*2)+1:len(df_close1)-1, :] = test_predict\n",
    "# plot baseline and predictions\n",
    "plt.plot(scaler.inverse_transform(df_close1))\n",
    "plt.plot(trainPredictPlot)\n",
    "plt.plot(testPredictPlot)\n",
    "plt.show()"
   ]
  },
  {
   "cell_type": "markdown",
   "metadata": {},
   "source": [
    "# predicting Future"
   ]
  },
  {
   "cell_type": "code",
   "execution_count": 225,
   "metadata": {},
   "outputs": [
    {
     "data": {
      "text/plain": [
       "441"
      ]
     },
     "execution_count": 225,
     "metadata": {},
     "output_type": "execute_result"
    }
   ],
   "source": [
    "len(test_data)"
   ]
  },
  {
   "cell_type": "code",
   "execution_count": 226,
   "metadata": {},
   "outputs": [
    {
     "data": {
      "text/plain": [
       "(1, 100)"
      ]
     },
     "execution_count": 226,
     "metadata": {},
     "output_type": "execute_result"
    }
   ],
   "source": [
    "x_input = test_data[341:].reshape(1, -1) # 441 - time_step\n",
    "x_input.shape"
   ]
  },
  {
   "cell_type": "code",
   "execution_count": 228,
   "metadata": {},
   "outputs": [],
   "source": [
    "temp_input = list(x_input)\n",
    "temp_input = temp_input[0].tolist()"
   ]
  },
  {
   "cell_type": "code",
   "execution_count": 230,
   "metadata": {},
   "outputs": [
    {
     "data": {
      "text/plain": [
       "100"
      ]
     },
     "execution_count": 230,
     "metadata": {},
     "output_type": "execute_result"
    }
   ],
   "source": [
    "len(temp_input)"
   ]
  },
  {
   "cell_type": "code",
   "execution_count": 232,
   "metadata": {},
   "outputs": [
    {
     "name": "stdout",
     "output_type": "stream",
     "text": [
      "0 day [0.87431394 0.88431985 0.87836697 0.8986321  0.92582116 0.92877649\n",
      " 0.95676771 0.93869797 0.93304061 0.94950604 0.96424048 0.95512117\n",
      " 0.95989192 0.96635143 0.96246728 0.92295027 0.9598497  0.98792536\n",
      " 0.98594106 0.92531453 0.92172591 0.96474711 0.97572406 0.99159841\n",
      " 0.96972895 0.97614625 0.96795575 1.         0.99016297 0.99050072\n",
      " 0.96538039 0.98488559 0.97086887 0.94026007 0.87748037 0.83483915\n",
      " 0.85413324 0.77336823 0.77269273 0.88014017 0.84007431 0.89673225\n",
      " 0.85527316 0.83884995 0.74233725 0.82327113 0.78143207 0.6665963\n",
      " 0.7921557  0.64118044 0.68614371 0.66001013 0.65203074 0.58642236\n",
      " 0.56586169 0.66089673 0.65515494 0.70970193 0.66452757 0.69437642\n",
      " 0.69218104 0.63569197 0.65266402 0.63780292 0.7267162  0.71388162\n",
      " 0.74191506 0.75002111 0.77222832 0.83049059 0.8194292  0.8289707\n",
      " 0.8125475  0.78776492 0.75162543 0.78426074 0.77974331 0.81326522\n",
      " 0.8141096  0.79473106 0.83336148 0.85898843 0.83901883 0.85628641\n",
      " 0.87486279 0.88782403 0.90095415 0.92793211 0.948535   0.93333615\n",
      " 0.91746179 0.92544119 0.91771511 0.9483239  0.94064004 0.96635143\n",
      " 0.9563033  0.96491598 0.92219579 0.86504549] input\n",
      "0 daya output [[0.81032187]]\n",
      "1 day [0.88431985 0.87836697 0.8986321  0.92582116 0.92877649 0.95676771\n",
      " 0.93869797 0.93304061 0.94950604 0.96424048 0.95512117 0.95989192\n",
      " 0.96635143 0.96246728 0.92295027 0.9598497  0.98792536 0.98594106\n",
      " 0.92531453 0.92172591 0.96474711 0.97572406 0.99159841 0.96972895\n",
      " 0.97614625 0.96795575 1.         0.99016297 0.99050072 0.96538039\n",
      " 0.98488559 0.97086887 0.94026007 0.87748037 0.83483915 0.85413324\n",
      " 0.77336823 0.77269273 0.88014017 0.84007431 0.89673225 0.85527316\n",
      " 0.83884995 0.74233725 0.82327113 0.78143207 0.6665963  0.7921557\n",
      " 0.64118044 0.68614371 0.66001013 0.65203074 0.58642236 0.56586169\n",
      " 0.66089673 0.65515494 0.70970193 0.66452757 0.69437642 0.69218104\n",
      " 0.63569197 0.65266402 0.63780292 0.7267162  0.71388162 0.74191506\n",
      " 0.75002111 0.77222832 0.83049059 0.8194292  0.8289707  0.8125475\n",
      " 0.78776492 0.75162543 0.78426074 0.77974331 0.81326522 0.8141096\n",
      " 0.79473106 0.83336148 0.85898843 0.83901883 0.85628641 0.87486279\n",
      " 0.88782403 0.90095415 0.92793211 0.948535   0.93333615 0.91746179\n",
      " 0.92544119 0.91771511 0.9483239  0.94064004 0.96635143 0.9563033\n",
      " 0.96491598 0.92219579 0.86504549 0.81032187] input\n",
      "1 daya output [[0.77123356]]\n",
      "2 day [0.87836697 0.8986321  0.92582116 0.92877649 0.95676771 0.93869797\n",
      " 0.93304061 0.94950604 0.96424048 0.95512117 0.95989192 0.96635143\n",
      " 0.96246728 0.92295027 0.9598497  0.98792536 0.98594106 0.92531453\n",
      " 0.92172591 0.96474711 0.97572406 0.99159841 0.96972895 0.97614625\n",
      " 0.96795575 1.         0.99016297 0.99050072 0.96538039 0.98488559\n",
      " 0.97086887 0.94026007 0.87748037 0.83483915 0.85413324 0.77336823\n",
      " 0.77269273 0.88014017 0.84007431 0.89673225 0.85527316 0.83884995\n",
      " 0.74233725 0.82327113 0.78143207 0.6665963  0.7921557  0.64118044\n",
      " 0.68614371 0.66001013 0.65203074 0.58642236 0.56586169 0.66089673\n",
      " 0.65515494 0.70970193 0.66452757 0.69437642 0.69218104 0.63569197\n",
      " 0.65266402 0.63780292 0.7267162  0.71388162 0.74191506 0.75002111\n",
      " 0.77222832 0.83049059 0.8194292  0.8289707  0.8125475  0.78776492\n",
      " 0.75162543 0.78426074 0.77974331 0.81326522 0.8141096  0.79473106\n",
      " 0.83336148 0.85898843 0.83901883 0.85628641 0.87486279 0.88782403\n",
      " 0.90095415 0.92793211 0.948535   0.93333615 0.91746179 0.92544119\n",
      " 0.91771511 0.9483239  0.94064004 0.96635143 0.9563033  0.96491598\n",
      " 0.92219579 0.86504549 0.81032187 0.77123356] input\n",
      "2 daya output [[0.7469922]]\n",
      "3 day [0.8986321  0.92582116 0.92877649 0.95676771 0.93869797 0.93304061\n",
      " 0.94950604 0.96424048 0.95512117 0.95989192 0.96635143 0.96246728\n",
      " 0.92295027 0.9598497  0.98792536 0.98594106 0.92531453 0.92172591\n",
      " 0.96474711 0.97572406 0.99159841 0.96972895 0.97614625 0.96795575\n",
      " 1.         0.99016297 0.99050072 0.96538039 0.98488559 0.97086887\n",
      " 0.94026007 0.87748037 0.83483915 0.85413324 0.77336823 0.77269273\n",
      " 0.88014017 0.84007431 0.89673225 0.85527316 0.83884995 0.74233725\n",
      " 0.82327113 0.78143207 0.6665963  0.7921557  0.64118044 0.68614371\n",
      " 0.66001013 0.65203074 0.58642236 0.56586169 0.66089673 0.65515494\n",
      " 0.70970193 0.66452757 0.69437642 0.69218104 0.63569197 0.65266402\n",
      " 0.63780292 0.7267162  0.71388162 0.74191506 0.75002111 0.77222832\n",
      " 0.83049059 0.8194292  0.8289707  0.8125475  0.78776492 0.75162543\n",
      " 0.78426074 0.77974331 0.81326522 0.8141096  0.79473106 0.83336148\n",
      " 0.85898843 0.83901883 0.85628641 0.87486279 0.88782403 0.90095415\n",
      " 0.92793211 0.948535   0.93333615 0.91746179 0.92544119 0.91771511\n",
      " 0.9483239  0.94064004 0.96635143 0.9563033  0.96491598 0.92219579\n",
      " 0.86504549 0.81032187 0.77123356 0.74699217] input\n",
      "3 daya output [[0.7350506]]\n",
      "4 day [0.92582116 0.92877649 0.95676771 0.93869797 0.93304061 0.94950604\n",
      " 0.96424048 0.95512117 0.95989192 0.96635143 0.96246728 0.92295027\n",
      " 0.9598497  0.98792536 0.98594106 0.92531453 0.92172591 0.96474711\n",
      " 0.97572406 0.99159841 0.96972895 0.97614625 0.96795575 1.\n",
      " 0.99016297 0.99050072 0.96538039 0.98488559 0.97086887 0.94026007\n",
      " 0.87748037 0.83483915 0.85413324 0.77336823 0.77269273 0.88014017\n",
      " 0.84007431 0.89673225 0.85527316 0.83884995 0.74233725 0.82327113\n",
      " 0.78143207 0.6665963  0.7921557  0.64118044 0.68614371 0.66001013\n",
      " 0.65203074 0.58642236 0.56586169 0.66089673 0.65515494 0.70970193\n",
      " 0.66452757 0.69437642 0.69218104 0.63569197 0.65266402 0.63780292\n",
      " 0.7267162  0.71388162 0.74191506 0.75002111 0.77222832 0.83049059\n",
      " 0.8194292  0.8289707  0.8125475  0.78776492 0.75162543 0.78426074\n",
      " 0.77974331 0.81326522 0.8141096  0.79473106 0.83336148 0.85898843\n",
      " 0.83901883 0.85628641 0.87486279 0.88782403 0.90095415 0.92793211\n",
      " 0.948535   0.93333615 0.91746179 0.92544119 0.91771511 0.9483239\n",
      " 0.94064004 0.96635143 0.9563033  0.96491598 0.92219579 0.86504549\n",
      " 0.81032187 0.77123356 0.74699217 0.73505062] input\n",
      "4 daya output [[0.7321686]]\n",
      "5 day [0.92877649 0.95676771 0.93869797 0.93304061 0.94950604 0.96424048\n",
      " 0.95512117 0.95989192 0.96635143 0.96246728 0.92295027 0.9598497\n",
      " 0.98792536 0.98594106 0.92531453 0.92172591 0.96474711 0.97572406\n",
      " 0.99159841 0.96972895 0.97614625 0.96795575 1.         0.99016297\n",
      " 0.99050072 0.96538039 0.98488559 0.97086887 0.94026007 0.87748037\n",
      " 0.83483915 0.85413324 0.77336823 0.77269273 0.88014017 0.84007431\n",
      " 0.89673225 0.85527316 0.83884995 0.74233725 0.82327113 0.78143207\n",
      " 0.6665963  0.7921557  0.64118044 0.68614371 0.66001013 0.65203074\n",
      " 0.58642236 0.56586169 0.66089673 0.65515494 0.70970193 0.66452757\n",
      " 0.69437642 0.69218104 0.63569197 0.65266402 0.63780292 0.7267162\n",
      " 0.71388162 0.74191506 0.75002111 0.77222832 0.83049059 0.8194292\n",
      " 0.8289707  0.8125475  0.78776492 0.75162543 0.78426074 0.77974331\n",
      " 0.81326522 0.8141096  0.79473106 0.83336148 0.85898843 0.83901883\n",
      " 0.85628641 0.87486279 0.88782403 0.90095415 0.92793211 0.948535\n",
      " 0.93333615 0.91746179 0.92544119 0.91771511 0.9483239  0.94064004\n",
      " 0.96635143 0.9563033  0.96491598 0.92219579 0.86504549 0.81032187\n",
      " 0.77123356 0.74699217 0.73505062 0.73216861] input\n",
      "5 daya output [[0.7350504]]\n",
      "6 day [0.95676771 0.93869797 0.93304061 0.94950604 0.96424048 0.95512117\n",
      " 0.95989192 0.96635143 0.96246728 0.92295027 0.9598497  0.98792536\n",
      " 0.98594106 0.92531453 0.92172591 0.96474711 0.97572406 0.99159841\n",
      " 0.96972895 0.97614625 0.96795575 1.         0.99016297 0.99050072\n",
      " 0.96538039 0.98488559 0.97086887 0.94026007 0.87748037 0.83483915\n",
      " 0.85413324 0.77336823 0.77269273 0.88014017 0.84007431 0.89673225\n",
      " 0.85527316 0.83884995 0.74233725 0.82327113 0.78143207 0.6665963\n",
      " 0.7921557  0.64118044 0.68614371 0.66001013 0.65203074 0.58642236\n",
      " 0.56586169 0.66089673 0.65515494 0.70970193 0.66452757 0.69437642\n",
      " 0.69218104 0.63569197 0.65266402 0.63780292 0.7267162  0.71388162\n",
      " 0.74191506 0.75002111 0.77222832 0.83049059 0.8194292  0.8289707\n",
      " 0.8125475  0.78776492 0.75162543 0.78426074 0.77974331 0.81326522\n",
      " 0.8141096  0.79473106 0.83336148 0.85898843 0.83901883 0.85628641\n",
      " 0.87486279 0.88782403 0.90095415 0.92793211 0.948535   0.93333615\n",
      " 0.91746179 0.92544119 0.91771511 0.9483239  0.94064004 0.96635143\n",
      " 0.9563033  0.96491598 0.92219579 0.86504549 0.81032187 0.77123356\n",
      " 0.74699217 0.73505062 0.73216861 0.73505038] input\n",
      "6 daya output [[0.7406154]]\n",
      "7 day [0.93869797 0.93304061 0.94950604 0.96424048 0.95512117 0.95989192\n",
      " 0.96635143 0.96246728 0.92295027 0.9598497  0.98792536 0.98594106\n",
      " 0.92531453 0.92172591 0.96474711 0.97572406 0.99159841 0.96972895\n",
      " 0.97614625 0.96795575 1.         0.99016297 0.99050072 0.96538039\n",
      " 0.98488559 0.97086887 0.94026007 0.87748037 0.83483915 0.85413324\n",
      " 0.77336823 0.77269273 0.88014017 0.84007431 0.89673225 0.85527316\n",
      " 0.83884995 0.74233725 0.82327113 0.78143207 0.6665963  0.7921557\n",
      " 0.64118044 0.68614371 0.66001013 0.65203074 0.58642236 0.56586169\n",
      " 0.66089673 0.65515494 0.70970193 0.66452757 0.69437642 0.69218104\n",
      " 0.63569197 0.65266402 0.63780292 0.7267162  0.71388162 0.74191506\n",
      " 0.75002111 0.77222832 0.83049059 0.8194292  0.8289707  0.8125475\n",
      " 0.78776492 0.75162543 0.78426074 0.77974331 0.81326522 0.8141096\n",
      " 0.79473106 0.83336148 0.85898843 0.83901883 0.85628641 0.87486279\n",
      " 0.88782403 0.90095415 0.92793211 0.948535   0.93333615 0.91746179\n",
      " 0.92544119 0.91771511 0.9483239  0.94064004 0.96635143 0.9563033\n",
      " 0.96491598 0.92219579 0.86504549 0.81032187 0.77123356 0.74699217\n",
      " 0.73505062 0.73216861 0.73505038 0.74061543] input\n",
      "7 daya output [[0.74618304]]\n",
      "8 day [0.93304061 0.94950604 0.96424048 0.95512117 0.95989192 0.96635143\n",
      " 0.96246728 0.92295027 0.9598497  0.98792536 0.98594106 0.92531453\n",
      " 0.92172591 0.96474711 0.97572406 0.99159841 0.96972895 0.97614625\n",
      " 0.96795575 1.         0.99016297 0.99050072 0.96538039 0.98488559\n",
      " 0.97086887 0.94026007 0.87748037 0.83483915 0.85413324 0.77336823\n",
      " 0.77269273 0.88014017 0.84007431 0.89673225 0.85527316 0.83884995\n",
      " 0.74233725 0.82327113 0.78143207 0.6665963  0.7921557  0.64118044\n",
      " 0.68614371 0.66001013 0.65203074 0.58642236 0.56586169 0.66089673\n",
      " 0.65515494 0.70970193 0.66452757 0.69437642 0.69218104 0.63569197\n",
      " 0.65266402 0.63780292 0.7267162  0.71388162 0.74191506 0.75002111\n",
      " 0.77222832 0.83049059 0.8194292  0.8289707  0.8125475  0.78776492\n",
      " 0.75162543 0.78426074 0.77974331 0.81326522 0.8141096  0.79473106\n",
      " 0.83336148 0.85898843 0.83901883 0.85628641 0.87486279 0.88782403\n",
      " 0.90095415 0.92793211 0.948535   0.93333615 0.91746179 0.92544119\n",
      " 0.91771511 0.9483239  0.94064004 0.96635143 0.9563033  0.96491598\n",
      " 0.92219579 0.86504549 0.81032187 0.77123356 0.74699217 0.73505062\n",
      " 0.73216861 0.73505038 0.74061543 0.74618304] input\n"
     ]
    },
    {
     "name": "stdout",
     "output_type": "stream",
     "text": [
      "8 daya output [[0.7496844]]\n",
      "9 day [0.94950604 0.96424048 0.95512117 0.95989192 0.96635143 0.96246728\n",
      " 0.92295027 0.9598497  0.98792536 0.98594106 0.92531453 0.92172591\n",
      " 0.96474711 0.97572406 0.99159841 0.96972895 0.97614625 0.96795575\n",
      " 1.         0.99016297 0.99050072 0.96538039 0.98488559 0.97086887\n",
      " 0.94026007 0.87748037 0.83483915 0.85413324 0.77336823 0.77269273\n",
      " 0.88014017 0.84007431 0.89673225 0.85527316 0.83884995 0.74233725\n",
      " 0.82327113 0.78143207 0.6665963  0.7921557  0.64118044 0.68614371\n",
      " 0.66001013 0.65203074 0.58642236 0.56586169 0.66089673 0.65515494\n",
      " 0.70970193 0.66452757 0.69437642 0.69218104 0.63569197 0.65266402\n",
      " 0.63780292 0.7267162  0.71388162 0.74191506 0.75002111 0.77222832\n",
      " 0.83049059 0.8194292  0.8289707  0.8125475  0.78776492 0.75162543\n",
      " 0.78426074 0.77974331 0.81326522 0.8141096  0.79473106 0.83336148\n",
      " 0.85898843 0.83901883 0.85628641 0.87486279 0.88782403 0.90095415\n",
      " 0.92793211 0.948535   0.93333615 0.91746179 0.92544119 0.91771511\n",
      " 0.9483239  0.94064004 0.96635143 0.9563033  0.96491598 0.92219579\n",
      " 0.86504549 0.81032187 0.77123356 0.74699217 0.73505062 0.73216861\n",
      " 0.73505038 0.74061543 0.74618304 0.74968439] input\n",
      "9 daya output [[0.7498414]]\n",
      "10 day [0.96424048 0.95512117 0.95989192 0.96635143 0.96246728 0.92295027\n",
      " 0.9598497  0.98792536 0.98594106 0.92531453 0.92172591 0.96474711\n",
      " 0.97572406 0.99159841 0.96972895 0.97614625 0.96795575 1.\n",
      " 0.99016297 0.99050072 0.96538039 0.98488559 0.97086887 0.94026007\n",
      " 0.87748037 0.83483915 0.85413324 0.77336823 0.77269273 0.88014017\n",
      " 0.84007431 0.89673225 0.85527316 0.83884995 0.74233725 0.82327113\n",
      " 0.78143207 0.6665963  0.7921557  0.64118044 0.68614371 0.66001013\n",
      " 0.65203074 0.58642236 0.56586169 0.66089673 0.65515494 0.70970193\n",
      " 0.66452757 0.69437642 0.69218104 0.63569197 0.65266402 0.63780292\n",
      " 0.7267162  0.71388162 0.74191506 0.75002111 0.77222832 0.83049059\n",
      " 0.8194292  0.8289707  0.8125475  0.78776492 0.75162543 0.78426074\n",
      " 0.77974331 0.81326522 0.8141096  0.79473106 0.83336148 0.85898843\n",
      " 0.83901883 0.85628641 0.87486279 0.88782403 0.90095415 0.92793211\n",
      " 0.948535   0.93333615 0.91746179 0.92544119 0.91771511 0.9483239\n",
      " 0.94064004 0.96635143 0.9563033  0.96491598 0.92219579 0.86504549\n",
      " 0.81032187 0.77123356 0.74699217 0.73505062 0.73216861 0.73505038\n",
      " 0.74061543 0.74618304 0.74968439 0.74984139] input\n",
      "10 daya output [[0.7462381]]\n",
      "11 day [0.95512117 0.95989192 0.96635143 0.96246728 0.92295027 0.9598497\n",
      " 0.98792536 0.98594106 0.92531453 0.92172591 0.96474711 0.97572406\n",
      " 0.99159841 0.96972895 0.97614625 0.96795575 1.         0.99016297\n",
      " 0.99050072 0.96538039 0.98488559 0.97086887 0.94026007 0.87748037\n",
      " 0.83483915 0.85413324 0.77336823 0.77269273 0.88014017 0.84007431\n",
      " 0.89673225 0.85527316 0.83884995 0.74233725 0.82327113 0.78143207\n",
      " 0.6665963  0.7921557  0.64118044 0.68614371 0.66001013 0.65203074\n",
      " 0.58642236 0.56586169 0.66089673 0.65515494 0.70970193 0.66452757\n",
      " 0.69437642 0.69218104 0.63569197 0.65266402 0.63780292 0.7267162\n",
      " 0.71388162 0.74191506 0.75002111 0.77222832 0.83049059 0.8194292\n",
      " 0.8289707  0.8125475  0.78776492 0.75162543 0.78426074 0.77974331\n",
      " 0.81326522 0.8141096  0.79473106 0.83336148 0.85898843 0.83901883\n",
      " 0.85628641 0.87486279 0.88782403 0.90095415 0.92793211 0.948535\n",
      " 0.93333615 0.91746179 0.92544119 0.91771511 0.9483239  0.94064004\n",
      " 0.96635143 0.9563033  0.96491598 0.92219579 0.86504549 0.81032187\n",
      " 0.77123356 0.74699217 0.73505062 0.73216861 0.73505038 0.74061543\n",
      " 0.74618304 0.74968439 0.74984139 0.74623811] input\n",
      "11 daya output [[0.7392512]]\n",
      "12 day [0.95989192 0.96635143 0.96246728 0.92295027 0.9598497  0.98792536\n",
      " 0.98594106 0.92531453 0.92172591 0.96474711 0.97572406 0.99159841\n",
      " 0.96972895 0.97614625 0.96795575 1.         0.99016297 0.99050072\n",
      " 0.96538039 0.98488559 0.97086887 0.94026007 0.87748037 0.83483915\n",
      " 0.85413324 0.77336823 0.77269273 0.88014017 0.84007431 0.89673225\n",
      " 0.85527316 0.83884995 0.74233725 0.82327113 0.78143207 0.6665963\n",
      " 0.7921557  0.64118044 0.68614371 0.66001013 0.65203074 0.58642236\n",
      " 0.56586169 0.66089673 0.65515494 0.70970193 0.66452757 0.69437642\n",
      " 0.69218104 0.63569197 0.65266402 0.63780292 0.7267162  0.71388162\n",
      " 0.74191506 0.75002111 0.77222832 0.83049059 0.8194292  0.8289707\n",
      " 0.8125475  0.78776492 0.75162543 0.78426074 0.77974331 0.81326522\n",
      " 0.8141096  0.79473106 0.83336148 0.85898843 0.83901883 0.85628641\n",
      " 0.87486279 0.88782403 0.90095415 0.92793211 0.948535   0.93333615\n",
      " 0.91746179 0.92544119 0.91771511 0.9483239  0.94064004 0.96635143\n",
      " 0.9563033  0.96491598 0.92219579 0.86504549 0.81032187 0.77123356\n",
      " 0.74699217 0.73505062 0.73216861 0.73505038 0.74061543 0.74618304\n",
      " 0.74968439 0.74984139 0.74623811 0.7392512 ] input\n",
      "12 daya output [[0.72983587]]\n",
      "13 day [0.96635143 0.96246728 0.92295027 0.9598497  0.98792536 0.98594106\n",
      " 0.92531453 0.92172591 0.96474711 0.97572406 0.99159841 0.96972895\n",
      " 0.97614625 0.96795575 1.         0.99016297 0.99050072 0.96538039\n",
      " 0.98488559 0.97086887 0.94026007 0.87748037 0.83483915 0.85413324\n",
      " 0.77336823 0.77269273 0.88014017 0.84007431 0.89673225 0.85527316\n",
      " 0.83884995 0.74233725 0.82327113 0.78143207 0.6665963  0.7921557\n",
      " 0.64118044 0.68614371 0.66001013 0.65203074 0.58642236 0.56586169\n",
      " 0.66089673 0.65515494 0.70970193 0.66452757 0.69437642 0.69218104\n",
      " 0.63569197 0.65266402 0.63780292 0.7267162  0.71388162 0.74191506\n",
      " 0.75002111 0.77222832 0.83049059 0.8194292  0.8289707  0.8125475\n",
      " 0.78776492 0.75162543 0.78426074 0.77974331 0.81326522 0.8141096\n",
      " 0.79473106 0.83336148 0.85898843 0.83901883 0.85628641 0.87486279\n",
      " 0.88782403 0.90095415 0.92793211 0.948535   0.93333615 0.91746179\n",
      " 0.92544119 0.91771511 0.9483239  0.94064004 0.96635143 0.9563033\n",
      " 0.96491598 0.92219579 0.86504549 0.81032187 0.77123356 0.74699217\n",
      " 0.73505062 0.73216861 0.73505038 0.74061543 0.74618304 0.74968439\n",
      " 0.74984139 0.74623811 0.7392512  0.72983587] input\n",
      "13 daya output [[0.719233]]\n",
      "14 day [0.96246728 0.92295027 0.9598497  0.98792536 0.98594106 0.92531453\n",
      " 0.92172591 0.96474711 0.97572406 0.99159841 0.96972895 0.97614625\n",
      " 0.96795575 1.         0.99016297 0.99050072 0.96538039 0.98488559\n",
      " 0.97086887 0.94026007 0.87748037 0.83483915 0.85413324 0.77336823\n",
      " 0.77269273 0.88014017 0.84007431 0.89673225 0.85527316 0.83884995\n",
      " 0.74233725 0.82327113 0.78143207 0.6665963  0.7921557  0.64118044\n",
      " 0.68614371 0.66001013 0.65203074 0.58642236 0.56586169 0.66089673\n",
      " 0.65515494 0.70970193 0.66452757 0.69437642 0.69218104 0.63569197\n",
      " 0.65266402 0.63780292 0.7267162  0.71388162 0.74191506 0.75002111\n",
      " 0.77222832 0.83049059 0.8194292  0.8289707  0.8125475  0.78776492\n",
      " 0.75162543 0.78426074 0.77974331 0.81326522 0.8141096  0.79473106\n",
      " 0.83336148 0.85898843 0.83901883 0.85628641 0.87486279 0.88782403\n",
      " 0.90095415 0.92793211 0.948535   0.93333615 0.91746179 0.92544119\n",
      " 0.91771511 0.9483239  0.94064004 0.96635143 0.9563033  0.96491598\n",
      " 0.92219579 0.86504549 0.81032187 0.77123356 0.74699217 0.73505062\n",
      " 0.73216861 0.73505038 0.74061543 0.74618304 0.74968439 0.74984139\n",
      " 0.74623811 0.7392512  0.72983587 0.71923298] input\n",
      "14 daya output [[0.7086803]]\n",
      "15 day [0.92295027 0.9598497  0.98792536 0.98594106 0.92531453 0.92172591\n",
      " 0.96474711 0.97572406 0.99159841 0.96972895 0.97614625 0.96795575\n",
      " 1.         0.99016297 0.99050072 0.96538039 0.98488559 0.97086887\n",
      " 0.94026007 0.87748037 0.83483915 0.85413324 0.77336823 0.77269273\n",
      " 0.88014017 0.84007431 0.89673225 0.85527316 0.83884995 0.74233725\n",
      " 0.82327113 0.78143207 0.6665963  0.7921557  0.64118044 0.68614371\n",
      " 0.66001013 0.65203074 0.58642236 0.56586169 0.66089673 0.65515494\n",
      " 0.70970193 0.66452757 0.69437642 0.69218104 0.63569197 0.65266402\n",
      " 0.63780292 0.7267162  0.71388162 0.74191506 0.75002111 0.77222832\n",
      " 0.83049059 0.8194292  0.8289707  0.8125475  0.78776492 0.75162543\n",
      " 0.78426074 0.77974331 0.81326522 0.8141096  0.79473106 0.83336148\n",
      " 0.85898843 0.83901883 0.85628641 0.87486279 0.88782403 0.90095415\n",
      " 0.92793211 0.948535   0.93333615 0.91746179 0.92544119 0.91771511\n",
      " 0.9483239  0.94064004 0.96635143 0.9563033  0.96491598 0.92219579\n",
      " 0.86504549 0.81032187 0.77123356 0.74699217 0.73505062 0.73216861\n",
      " 0.73505038 0.74061543 0.74618304 0.74968439 0.74984139 0.74623811\n",
      " 0.7392512  0.72983587 0.71923298 0.70868027] input\n",
      "15 daya output [[0.69918364]]\n",
      "16 day [0.9598497  0.98792536 0.98594106 0.92531453 0.92172591 0.96474711\n",
      " 0.97572406 0.99159841 0.96972895 0.97614625 0.96795575 1.\n",
      " 0.99016297 0.99050072 0.96538039 0.98488559 0.97086887 0.94026007\n",
      " 0.87748037 0.83483915 0.85413324 0.77336823 0.77269273 0.88014017\n",
      " 0.84007431 0.89673225 0.85527316 0.83884995 0.74233725 0.82327113\n",
      " 0.78143207 0.6665963  0.7921557  0.64118044 0.68614371 0.66001013\n",
      " 0.65203074 0.58642236 0.56586169 0.66089673 0.65515494 0.70970193\n",
      " 0.66452757 0.69437642 0.69218104 0.63569197 0.65266402 0.63780292\n",
      " 0.7267162  0.71388162 0.74191506 0.75002111 0.77222832 0.83049059\n",
      " 0.8194292  0.8289707  0.8125475  0.78776492 0.75162543 0.78426074\n",
      " 0.77974331 0.81326522 0.8141096  0.79473106 0.83336148 0.85898843\n",
      " 0.83901883 0.85628641 0.87486279 0.88782403 0.90095415 0.92793211\n",
      " 0.948535   0.93333615 0.91746179 0.92544119 0.91771511 0.9483239\n",
      " 0.94064004 0.96635143 0.9563033  0.96491598 0.92219579 0.86504549\n",
      " 0.81032187 0.77123356 0.74699217 0.73505062 0.73216861 0.73505038\n",
      " 0.74061543 0.74618304 0.74968439 0.74984139 0.74623811 0.7392512\n",
      " 0.72983587 0.71923298 0.70868027 0.69918364] input\n"
     ]
    },
    {
     "name": "stdout",
     "output_type": "stream",
     "text": [
      "16 daya output [[0.6913962]]\n",
      "17 day [0.98792536 0.98594106 0.92531453 0.92172591 0.96474711 0.97572406\n",
      " 0.99159841 0.96972895 0.97614625 0.96795575 1.         0.99016297\n",
      " 0.99050072 0.96538039 0.98488559 0.97086887 0.94026007 0.87748037\n",
      " 0.83483915 0.85413324 0.77336823 0.77269273 0.88014017 0.84007431\n",
      " 0.89673225 0.85527316 0.83884995 0.74233725 0.82327113 0.78143207\n",
      " 0.6665963  0.7921557  0.64118044 0.68614371 0.66001013 0.65203074\n",
      " 0.58642236 0.56586169 0.66089673 0.65515494 0.70970193 0.66452757\n",
      " 0.69437642 0.69218104 0.63569197 0.65266402 0.63780292 0.7267162\n",
      " 0.71388162 0.74191506 0.75002111 0.77222832 0.83049059 0.8194292\n",
      " 0.8289707  0.8125475  0.78776492 0.75162543 0.78426074 0.77974331\n",
      " 0.81326522 0.8141096  0.79473106 0.83336148 0.85898843 0.83901883\n",
      " 0.85628641 0.87486279 0.88782403 0.90095415 0.92793211 0.948535\n",
      " 0.93333615 0.91746179 0.92544119 0.91771511 0.9483239  0.94064004\n",
      " 0.96635143 0.9563033  0.96491598 0.92219579 0.86504549 0.81032187\n",
      " 0.77123356 0.74699217 0.73505062 0.73216861 0.73505038 0.74061543\n",
      " 0.74618304 0.74968439 0.74984139 0.74623811 0.7392512  0.72983587\n",
      " 0.71923298 0.70868027 0.69918364 0.69139618] input\n",
      "17 daya output [[0.68558866]]\n",
      "18 day [0.98594106 0.92531453 0.92172591 0.96474711 0.97572406 0.99159841\n",
      " 0.96972895 0.97614625 0.96795575 1.         0.99016297 0.99050072\n",
      " 0.96538039 0.98488559 0.97086887 0.94026007 0.87748037 0.83483915\n",
      " 0.85413324 0.77336823 0.77269273 0.88014017 0.84007431 0.89673225\n",
      " 0.85527316 0.83884995 0.74233725 0.82327113 0.78143207 0.6665963\n",
      " 0.7921557  0.64118044 0.68614371 0.66001013 0.65203074 0.58642236\n",
      " 0.56586169 0.66089673 0.65515494 0.70970193 0.66452757 0.69437642\n",
      " 0.69218104 0.63569197 0.65266402 0.63780292 0.7267162  0.71388162\n",
      " 0.74191506 0.75002111 0.77222832 0.83049059 0.8194292  0.8289707\n",
      " 0.8125475  0.78776492 0.75162543 0.78426074 0.77974331 0.81326522\n",
      " 0.8141096  0.79473106 0.83336148 0.85898843 0.83901883 0.85628641\n",
      " 0.87486279 0.88782403 0.90095415 0.92793211 0.948535   0.93333615\n",
      " 0.91746179 0.92544119 0.91771511 0.9483239  0.94064004 0.96635143\n",
      " 0.9563033  0.96491598 0.92219579 0.86504549 0.81032187 0.77123356\n",
      " 0.74699217 0.73505062 0.73216861 0.73505038 0.74061543 0.74618304\n",
      " 0.74968439 0.74984139 0.74623811 0.7392512  0.72983587 0.71923298\n",
      " 0.70868027 0.69918364 0.69139618 0.68558866] input\n",
      "18 daya output [[0.6816959]]\n",
      "19 day [0.92531453 0.92172591 0.96474711 0.97572406 0.99159841 0.96972895\n",
      " 0.97614625 0.96795575 1.         0.99016297 0.99050072 0.96538039\n",
      " 0.98488559 0.97086887 0.94026007 0.87748037 0.83483915 0.85413324\n",
      " 0.77336823 0.77269273 0.88014017 0.84007431 0.89673225 0.85527316\n",
      " 0.83884995 0.74233725 0.82327113 0.78143207 0.6665963  0.7921557\n",
      " 0.64118044 0.68614371 0.66001013 0.65203074 0.58642236 0.56586169\n",
      " 0.66089673 0.65515494 0.70970193 0.66452757 0.69437642 0.69218104\n",
      " 0.63569197 0.65266402 0.63780292 0.7267162  0.71388162 0.74191506\n",
      " 0.75002111 0.77222832 0.83049059 0.8194292  0.8289707  0.8125475\n",
      " 0.78776492 0.75162543 0.78426074 0.77974331 0.81326522 0.8141096\n",
      " 0.79473106 0.83336148 0.85898843 0.83901883 0.85628641 0.87486279\n",
      " 0.88782403 0.90095415 0.92793211 0.948535   0.93333615 0.91746179\n",
      " 0.92544119 0.91771511 0.9483239  0.94064004 0.96635143 0.9563033\n",
      " 0.96491598 0.92219579 0.86504549 0.81032187 0.77123356 0.74699217\n",
      " 0.73505062 0.73216861 0.73505038 0.74061543 0.74618304 0.74968439\n",
      " 0.74984139 0.74623811 0.7392512  0.72983587 0.71923298 0.70868027\n",
      " 0.69918364 0.69139618 0.68558866 0.68169588] input\n",
      "19 daya output [[0.679399]]\n",
      "20 day [0.92172591 0.96474711 0.97572406 0.99159841 0.96972895 0.97614625\n",
      " 0.96795575 1.         0.99016297 0.99050072 0.96538039 0.98488559\n",
      " 0.97086887 0.94026007 0.87748037 0.83483915 0.85413324 0.77336823\n",
      " 0.77269273 0.88014017 0.84007431 0.89673225 0.85527316 0.83884995\n",
      " 0.74233725 0.82327113 0.78143207 0.6665963  0.7921557  0.64118044\n",
      " 0.68614371 0.66001013 0.65203074 0.58642236 0.56586169 0.66089673\n",
      " 0.65515494 0.70970193 0.66452757 0.69437642 0.69218104 0.63569197\n",
      " 0.65266402 0.63780292 0.7267162  0.71388162 0.74191506 0.75002111\n",
      " 0.77222832 0.83049059 0.8194292  0.8289707  0.8125475  0.78776492\n",
      " 0.75162543 0.78426074 0.77974331 0.81326522 0.8141096  0.79473106\n",
      " 0.83336148 0.85898843 0.83901883 0.85628641 0.87486279 0.88782403\n",
      " 0.90095415 0.92793211 0.948535   0.93333615 0.91746179 0.92544119\n",
      " 0.91771511 0.9483239  0.94064004 0.96635143 0.9563033  0.96491598\n",
      " 0.92219579 0.86504549 0.81032187 0.77123356 0.74699217 0.73505062\n",
      " 0.73216861 0.73505038 0.74061543 0.74618304 0.74968439 0.74984139\n",
      " 0.74623811 0.7392512  0.72983587 0.71923298 0.70868027 0.69918364\n",
      " 0.69139618 0.68558866 0.68169588 0.67939901] input\n",
      "20 daya output [[0.67822576]]\n",
      "21 day [0.96474711 0.97572406 0.99159841 0.96972895 0.97614625 0.96795575\n",
      " 1.         0.99016297 0.99050072 0.96538039 0.98488559 0.97086887\n",
      " 0.94026007 0.87748037 0.83483915 0.85413324 0.77336823 0.77269273\n",
      " 0.88014017 0.84007431 0.89673225 0.85527316 0.83884995 0.74233725\n",
      " 0.82327113 0.78143207 0.6665963  0.7921557  0.64118044 0.68614371\n",
      " 0.66001013 0.65203074 0.58642236 0.56586169 0.66089673 0.65515494\n",
      " 0.70970193 0.66452757 0.69437642 0.69218104 0.63569197 0.65266402\n",
      " 0.63780292 0.7267162  0.71388162 0.74191506 0.75002111 0.77222832\n",
      " 0.83049059 0.8194292  0.8289707  0.8125475  0.78776492 0.75162543\n",
      " 0.78426074 0.77974331 0.81326522 0.8141096  0.79473106 0.83336148\n",
      " 0.85898843 0.83901883 0.85628641 0.87486279 0.88782403 0.90095415\n",
      " 0.92793211 0.948535   0.93333615 0.91746179 0.92544119 0.91771511\n",
      " 0.9483239  0.94064004 0.96635143 0.9563033  0.96491598 0.92219579\n",
      " 0.86504549 0.81032187 0.77123356 0.74699217 0.73505062 0.73216861\n",
      " 0.73505038 0.74061543 0.74618304 0.74968439 0.74984139 0.74623811\n",
      " 0.7392512  0.72983587 0.71923298 0.70868027 0.69918364 0.69139618\n",
      " 0.68558866 0.68169588 0.67939901 0.67822576] input\n",
      "21 daya output [[0.6776458]]\n",
      "22 day [0.97572406 0.99159841 0.96972895 0.97614625 0.96795575 1.\n",
      " 0.99016297 0.99050072 0.96538039 0.98488559 0.97086887 0.94026007\n",
      " 0.87748037 0.83483915 0.85413324 0.77336823 0.77269273 0.88014017\n",
      " 0.84007431 0.89673225 0.85527316 0.83884995 0.74233725 0.82327113\n",
      " 0.78143207 0.6665963  0.7921557  0.64118044 0.68614371 0.66001013\n",
      " 0.65203074 0.58642236 0.56586169 0.66089673 0.65515494 0.70970193\n",
      " 0.66452757 0.69437642 0.69218104 0.63569197 0.65266402 0.63780292\n",
      " 0.7267162  0.71388162 0.74191506 0.75002111 0.77222832 0.83049059\n",
      " 0.8194292  0.8289707  0.8125475  0.78776492 0.75162543 0.78426074\n",
      " 0.77974331 0.81326522 0.8141096  0.79473106 0.83336148 0.85898843\n",
      " 0.83901883 0.85628641 0.87486279 0.88782403 0.90095415 0.92793211\n",
      " 0.948535   0.93333615 0.91746179 0.92544119 0.91771511 0.9483239\n",
      " 0.94064004 0.96635143 0.9563033  0.96491598 0.92219579 0.86504549\n",
      " 0.81032187 0.77123356 0.74699217 0.73505062 0.73216861 0.73505038\n",
      " 0.74061543 0.74618304 0.74968439 0.74984139 0.74623811 0.7392512\n",
      " 0.72983587 0.71923298 0.70868027 0.69918364 0.69139618 0.68558866\n",
      " 0.68169588 0.67939901 0.67822576 0.6776458 ] input\n",
      "22 daya output [[0.6771547]]\n",
      "23 day [0.99159841 0.96972895 0.97614625 0.96795575 1.         0.99016297\n",
      " 0.99050072 0.96538039 0.98488559 0.97086887 0.94026007 0.87748037\n",
      " 0.83483915 0.85413324 0.77336823 0.77269273 0.88014017 0.84007431\n",
      " 0.89673225 0.85527316 0.83884995 0.74233725 0.82327113 0.78143207\n",
      " 0.6665963  0.7921557  0.64118044 0.68614371 0.66001013 0.65203074\n",
      " 0.58642236 0.56586169 0.66089673 0.65515494 0.70970193 0.66452757\n",
      " 0.69437642 0.69218104 0.63569197 0.65266402 0.63780292 0.7267162\n",
      " 0.71388162 0.74191506 0.75002111 0.77222832 0.83049059 0.8194292\n",
      " 0.8289707  0.8125475  0.78776492 0.75162543 0.78426074 0.77974331\n",
      " 0.81326522 0.8141096  0.79473106 0.83336148 0.85898843 0.83901883\n",
      " 0.85628641 0.87486279 0.88782403 0.90095415 0.92793211 0.948535\n",
      " 0.93333615 0.91746179 0.92544119 0.91771511 0.9483239  0.94064004\n",
      " 0.96635143 0.9563033  0.96491598 0.92219579 0.86504549 0.81032187\n",
      " 0.77123356 0.74699217 0.73505062 0.73216861 0.73505038 0.74061543\n",
      " 0.74618304 0.74968439 0.74984139 0.74623811 0.7392512  0.72983587\n",
      " 0.71923298 0.70868027 0.69918364 0.69139618 0.68558866 0.68169588\n",
      " 0.67939901 0.67822576 0.6776458  0.67715472] input\n",
      "23 daya output [[0.6763381]]\n",
      "24 day [0.96972895 0.97614625 0.96795575 1.         0.99016297 0.99050072\n",
      " 0.96538039 0.98488559 0.97086887 0.94026007 0.87748037 0.83483915\n",
      " 0.85413324 0.77336823 0.77269273 0.88014017 0.84007431 0.89673225\n",
      " 0.85527316 0.83884995 0.74233725 0.82327113 0.78143207 0.6665963\n",
      " 0.7921557  0.64118044 0.68614371 0.66001013 0.65203074 0.58642236\n",
      " 0.56586169 0.66089673 0.65515494 0.70970193 0.66452757 0.69437642\n",
      " 0.69218104 0.63569197 0.65266402 0.63780292 0.7267162  0.71388162\n",
      " 0.74191506 0.75002111 0.77222832 0.83049059 0.8194292  0.8289707\n",
      " 0.8125475  0.78776492 0.75162543 0.78426074 0.77974331 0.81326522\n",
      " 0.8141096  0.79473106 0.83336148 0.85898843 0.83901883 0.85628641\n",
      " 0.87486279 0.88782403 0.90095415 0.92793211 0.948535   0.93333615\n",
      " 0.91746179 0.92544119 0.91771511 0.9483239  0.94064004 0.96635143\n",
      " 0.9563033  0.96491598 0.92219579 0.86504549 0.81032187 0.77123356\n",
      " 0.74699217 0.73505062 0.73216861 0.73505038 0.74061543 0.74618304\n",
      " 0.74968439 0.74984139 0.74623811 0.7392512  0.72983587 0.71923298\n",
      " 0.70868027 0.69918364 0.69139618 0.68558866 0.68169588 0.67939901\n",
      " 0.67822576 0.6776458  0.67715472 0.67633808] input\n"
     ]
    },
    {
     "name": "stdout",
     "output_type": "stream",
     "text": [
      "24 daya output [[0.67491233]]\n",
      "25 day [0.97614625 0.96795575 1.         0.99016297 0.99050072 0.96538039\n",
      " 0.98488559 0.97086887 0.94026007 0.87748037 0.83483915 0.85413324\n",
      " 0.77336823 0.77269273 0.88014017 0.84007431 0.89673225 0.85527316\n",
      " 0.83884995 0.74233725 0.82327113 0.78143207 0.6665963  0.7921557\n",
      " 0.64118044 0.68614371 0.66001013 0.65203074 0.58642236 0.56586169\n",
      " 0.66089673 0.65515494 0.70970193 0.66452757 0.69437642 0.69218104\n",
      " 0.63569197 0.65266402 0.63780292 0.7267162  0.71388162 0.74191506\n",
      " 0.75002111 0.77222832 0.83049059 0.8194292  0.8289707  0.8125475\n",
      " 0.78776492 0.75162543 0.78426074 0.77974331 0.81326522 0.8141096\n",
      " 0.79473106 0.83336148 0.85898843 0.83901883 0.85628641 0.87486279\n",
      " 0.88782403 0.90095415 0.92793211 0.948535   0.93333615 0.91746179\n",
      " 0.92544119 0.91771511 0.9483239  0.94064004 0.96635143 0.9563033\n",
      " 0.96491598 0.92219579 0.86504549 0.81032187 0.77123356 0.74699217\n",
      " 0.73505062 0.73216861 0.73505038 0.74061543 0.74618304 0.74968439\n",
      " 0.74984139 0.74623811 0.7392512  0.72983587 0.71923298 0.70868027\n",
      " 0.69918364 0.69139618 0.68558866 0.68169588 0.67939901 0.67822576\n",
      " 0.6776458  0.67715472 0.67633808 0.67491233] input\n",
      "25 daya output [[0.6727413]]\n",
      "26 day [0.96795575 1.         0.99016297 0.99050072 0.96538039 0.98488559\n",
      " 0.97086887 0.94026007 0.87748037 0.83483915 0.85413324 0.77336823\n",
      " 0.77269273 0.88014017 0.84007431 0.89673225 0.85527316 0.83884995\n",
      " 0.74233725 0.82327113 0.78143207 0.6665963  0.7921557  0.64118044\n",
      " 0.68614371 0.66001013 0.65203074 0.58642236 0.56586169 0.66089673\n",
      " 0.65515494 0.70970193 0.66452757 0.69437642 0.69218104 0.63569197\n",
      " 0.65266402 0.63780292 0.7267162  0.71388162 0.74191506 0.75002111\n",
      " 0.77222832 0.83049059 0.8194292  0.8289707  0.8125475  0.78776492\n",
      " 0.75162543 0.78426074 0.77974331 0.81326522 0.8141096  0.79473106\n",
      " 0.83336148 0.85898843 0.83901883 0.85628641 0.87486279 0.88782403\n",
      " 0.90095415 0.92793211 0.948535   0.93333615 0.91746179 0.92544119\n",
      " 0.91771511 0.9483239  0.94064004 0.96635143 0.9563033  0.96491598\n",
      " 0.92219579 0.86504549 0.81032187 0.77123356 0.74699217 0.73505062\n",
      " 0.73216861 0.73505038 0.74061543 0.74618304 0.74968439 0.74984139\n",
      " 0.74623811 0.7392512  0.72983587 0.71923298 0.70868027 0.69918364\n",
      " 0.69139618 0.68558866 0.68169588 0.67939901 0.67822576 0.6776458\n",
      " 0.67715472 0.67633808 0.67491233 0.67274129] input\n",
      "26 daya output [[0.66982466]]\n",
      "27 day [1.         0.99016297 0.99050072 0.96538039 0.98488559 0.97086887\n",
      " 0.94026007 0.87748037 0.83483915 0.85413324 0.77336823 0.77269273\n",
      " 0.88014017 0.84007431 0.89673225 0.85527316 0.83884995 0.74233725\n",
      " 0.82327113 0.78143207 0.6665963  0.7921557  0.64118044 0.68614371\n",
      " 0.66001013 0.65203074 0.58642236 0.56586169 0.66089673 0.65515494\n",
      " 0.70970193 0.66452757 0.69437642 0.69218104 0.63569197 0.65266402\n",
      " 0.63780292 0.7267162  0.71388162 0.74191506 0.75002111 0.77222832\n",
      " 0.83049059 0.8194292  0.8289707  0.8125475  0.78776492 0.75162543\n",
      " 0.78426074 0.77974331 0.81326522 0.8141096  0.79473106 0.83336148\n",
      " 0.85898843 0.83901883 0.85628641 0.87486279 0.88782403 0.90095415\n",
      " 0.92793211 0.948535   0.93333615 0.91746179 0.92544119 0.91771511\n",
      " 0.9483239  0.94064004 0.96635143 0.9563033  0.96491598 0.92219579\n",
      " 0.86504549 0.81032187 0.77123356 0.74699217 0.73505062 0.73216861\n",
      " 0.73505038 0.74061543 0.74618304 0.74968439 0.74984139 0.74623811\n",
      " 0.7392512  0.72983587 0.71923298 0.70868027 0.69918364 0.69139618\n",
      " 0.68558866 0.68169588 0.67939901 0.67822576 0.6776458  0.67715472\n",
      " 0.67633808 0.67491233 0.67274129 0.66982466] input\n",
      "27 daya output [[0.66627234]]\n",
      "28 day [0.99016297 0.99050072 0.96538039 0.98488559 0.97086887 0.94026007\n",
      " 0.87748037 0.83483915 0.85413324 0.77336823 0.77269273 0.88014017\n",
      " 0.84007431 0.89673225 0.85527316 0.83884995 0.74233725 0.82327113\n",
      " 0.78143207 0.6665963  0.7921557  0.64118044 0.68614371 0.66001013\n",
      " 0.65203074 0.58642236 0.56586169 0.66089673 0.65515494 0.70970193\n",
      " 0.66452757 0.69437642 0.69218104 0.63569197 0.65266402 0.63780292\n",
      " 0.7267162  0.71388162 0.74191506 0.75002111 0.77222832 0.83049059\n",
      " 0.8194292  0.8289707  0.8125475  0.78776492 0.75162543 0.78426074\n",
      " 0.77974331 0.81326522 0.8141096  0.79473106 0.83336148 0.85898843\n",
      " 0.83901883 0.85628641 0.87486279 0.88782403 0.90095415 0.92793211\n",
      " 0.948535   0.93333615 0.91746179 0.92544119 0.91771511 0.9483239\n",
      " 0.94064004 0.96635143 0.9563033  0.96491598 0.92219579 0.86504549\n",
      " 0.81032187 0.77123356 0.74699217 0.73505062 0.73216861 0.73505038\n",
      " 0.74061543 0.74618304 0.74968439 0.74984139 0.74623811 0.7392512\n",
      " 0.72983587 0.71923298 0.70868027 0.69918364 0.69139618 0.68558866\n",
      " 0.68169588 0.67939901 0.67822576 0.6776458  0.67715472 0.67633808\n",
      " 0.67491233 0.67274129 0.66982466 0.66627234] input\n",
      "28 daya output [[0.662264]]\n",
      "29 day [0.99050072 0.96538039 0.98488559 0.97086887 0.94026007 0.87748037\n",
      " 0.83483915 0.85413324 0.77336823 0.77269273 0.88014017 0.84007431\n",
      " 0.89673225 0.85527316 0.83884995 0.74233725 0.82327113 0.78143207\n",
      " 0.6665963  0.7921557  0.64118044 0.68614371 0.66001013 0.65203074\n",
      " 0.58642236 0.56586169 0.66089673 0.65515494 0.70970193 0.66452757\n",
      " 0.69437642 0.69218104 0.63569197 0.65266402 0.63780292 0.7267162\n",
      " 0.71388162 0.74191506 0.75002111 0.77222832 0.83049059 0.8194292\n",
      " 0.8289707  0.8125475  0.78776492 0.75162543 0.78426074 0.77974331\n",
      " 0.81326522 0.8141096  0.79473106 0.83336148 0.85898843 0.83901883\n",
      " 0.85628641 0.87486279 0.88782403 0.90095415 0.92793211 0.948535\n",
      " 0.93333615 0.91746179 0.92544119 0.91771511 0.9483239  0.94064004\n",
      " 0.96635143 0.9563033  0.96491598 0.92219579 0.86504549 0.81032187\n",
      " 0.77123356 0.74699217 0.73505062 0.73216861 0.73505038 0.74061543\n",
      " 0.74618304 0.74968439 0.74984139 0.74623811 0.7392512  0.72983587\n",
      " 0.71923298 0.70868027 0.69918364 0.69139618 0.68558866 0.68169588\n",
      " 0.67939901 0.67822576 0.6776458  0.67715472 0.67633808 0.67491233\n",
      " 0.67274129 0.66982466 0.66627234 0.66226399] input\n",
      "29 daya output [[0.6580065]]\n",
      "[[0.8103218674659729], [0.7712335586547852], [0.7469921708106995], [0.735050618648529], [0.7321686148643494], [0.73505038022995], [0.7406154274940491], [0.7461830377578735], [0.7496843934059143], [0.7498413920402527], [0.746238112449646], [0.7392511963844299], [0.7298358678817749], [0.719232976436615], [0.708680272102356], [0.6991836428642273], [0.691396176815033], [0.6855886578559875], [0.6816958785057068], [0.6793990135192871], [0.6782257556915283], [0.6776458024978638], [0.6771547198295593], [0.6763380765914917], [0.6749123334884644], [0.6727412939071655], [0.6698246598243713], [0.6662723422050476], [0.6622639894485474], [0.658006489276886]]\n"
     ]
    }
   ],
   "source": [
    "# Demonstrate predictions for next 10 days\n",
    "lst_output = []\n",
    "n_steps = 100\n",
    "i = 0\n",
    "while(i < 30): # prediction for next 30 days\n",
    "    if(len(temp_input) > 100):\n",
    "        #print(temp_data)\n",
    "        x_input = np.array(temp_input[1:])\n",
    "        print(\"{} day {} input\".format(i, x_input))\n",
    "        x_input = x_input.reshape(1, -1)\n",
    "        x_input = x_input.reshape((1, n_steps, 1))\n",
    "        \n",
    "        yhat = model.predict(x_input, verbose=0)\n",
    "        print(\"{} daya output {}\".format(i, yhat))\n",
    "        temp_input.extend(yhat[0].tolist())\n",
    "        temp_input = temp_input[1:]\n",
    "        lst_output.extend(yhat.tolist())\n",
    "        i = i+1\n",
    "    else:\n",
    "        x_input = x_input.reshape(1, n_steps, 1)\n",
    "        yhat = model.predict(x_input, verbose=0)\n",
    "        print(yhat[0])\n",
    "        temp_input.extend(yhat[0].tolist())\n",
    "        print(len(temp_input))\n",
    "        lst_output.extend(yhat.tolist())\n",
    "        i=i+1\n",
    "\n",
    "print(lst_output)\n",
    "    "
   ]
  },
  {
   "cell_type": "code",
   "execution_count": 234,
   "metadata": {},
   "outputs": [],
   "source": [
    "day_new = np.arange(1, 101)\n",
    "day_pred = np.arange(101, 131)"
   ]
  },
  {
   "cell_type": "code",
   "execution_count": 235,
   "metadata": {},
   "outputs": [
    {
     "data": {
      "text/plain": [
       "1258"
      ]
     },
     "execution_count": 235,
     "metadata": {},
     "output_type": "execute_result"
    }
   ],
   "source": [
    "len(df_close1)"
   ]
  },
  {
   "cell_type": "code",
   "execution_count": 236,
   "metadata": {},
   "outputs": [],
   "source": [
    "df3 = df_close1.tolist()\n",
    "df3.extend(lst_output)"
   ]
  },
  {
   "cell_type": "code",
   "execution_count": 237,
   "metadata": {},
   "outputs": [
    {
     "data": {
      "text/plain": [
       "[<matplotlib.lines.Line2D at 0x1e278b4c5c8>]"
      ]
     },
     "execution_count": 237,
     "metadata": {},
     "output_type": "execute_result"
    },
    {
     "data": {
      "image/png": "[encoded data removed]",
      "text/plain": [
       "<Figure size 432x288 with 1 Axes>"
      ]
     },
     "metadata": {
      "needs_background": "light"
     },
     "output_type": "display_data"
    }
   ],
   "source": [
    "plt.plot(day_new, scaler.inverse_transform(df_close1[1158:]))\n",
    "plt.plot(day_pred, scaler.inverse_transform(lst_output))"
   ]
  },
  {
   "cell_type": "code",
   "execution_count": 238,
   "metadata": {},
   "outputs": [
    {
     "data": {
      "text/plain": [
       "[<matplotlib.lines.Line2D at 0x1e278430288>]"
      ]
     },
     "execution_count": 238,
     "metadata": {},
     "output_type": "execute_result"
    },
    {
     "data": {
      "image/png": "[encoded data removed]",
      "text/plain": [
       "<Figure size 432x288 with 1 Axes>"
      ]
     },
     "metadata": {
      "needs_background": "light"
     },
     "output_type": "display_data"
    }
   ],
   "source": [
    "plt.plot(df3[1000:])"
   ]
  },
  {
   "cell_type": "code",
   "execution_count": null,
   "metadata": {},
   "outputs": [],
   "source": []
  }
 ],
 "metadata": {
  "kernelspec": {
   "display_name": "Python 3",
   "language": "python",
   "name": "python3"
  },
  "language_info": {
   "codemirror_mode": {
    "name": "ipython",
    "version": 3
   },
   "file_extension": ".py",
   "mimetype": "text/x-python",
   "name": "python",
   "nbconvert_exporter": "python",
   "pygments_lexer": "ipython3",
   "version": "3.7.6"
  }
 },
 "nbformat": 4,
 "nbformat_minor": 4
}
